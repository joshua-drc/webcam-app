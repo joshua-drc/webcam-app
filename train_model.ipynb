{
 "cells": [
  {
   "cell_type": "code",
   "execution_count": 1,
   "metadata": {},
   "outputs": [],
   "source": [
    "import tensorflow as tf\n",
    "import tensorflowjs as tfjs"
   ]
  },
  {
   "cell_type": "markdown",
   "metadata": {},
   "source": [
    "## Data Pipeline\n",
    "\n",
    "Data pipeline using AffectNet and TensorFlow data operations.\n",
    "\n"
   ]
  },
  {
   "cell_type": "code",
   "execution_count": 2,
   "metadata": {},
   "outputs": [
    {
     "name": "stdout",
     "output_type": "stream",
     "text": [
      "Found 10677 files belonging to 3 classes.\n",
      "Found 2669 files belonging to 3 classes.\n",
      "Using 1335 files for training.\n",
      "Found 2669 files belonging to 3 classes.\n",
      "Using 1334 files for validation.\n"
     ]
    }
   ],
   "source": [
    "train_dir = \"/Users/joshua/Desktop/quality_dataset/train\"\n",
    "val_dir = \"/Users/joshua/Desktop/quality_dataset/val\"\n",
    "\n",
    "# Execute augmentation lazily.\n",
    "@tf.function\n",
    "def data_augmentation(images, labels):\n",
    "  images = tf.image.random_flip_left_right(images)\n",
    "  images = tf.image.random_saturation(images, 0.6, 1.5)\n",
    "  images = tf.image.random_brightness(images, max_delta=0.4)\n",
    "  return images, labels\n",
    "\n",
    "# Create training generator.\n",
    "train_ds = tf.keras.utils.image_dataset_from_directory(train_dir, label_mode = \"categorical\", image_size=(96, 96), batch_size=32, seed = 2024)\n",
    "LABEL_MAP = dict(enumerate(train_ds.class_names))\n",
    "train_ds = train_ds.map(data_augmentation)\n",
    "\n",
    "# Create validation generator.\n",
    "val_ds = tf.keras.utils.image_dataset_from_directory(val_dir, label_mode = \"categorical\", image_size=(96, 96), batch_size=32, validation_split=0.5, subset=\"training\", seed = 2024)\n",
    "test_ds = tf.keras.utils.image_dataset_from_directory(val_dir, label_mode = \"categorical\", image_size=(96, 96), batch_size=32, validation_split=0.5, subset=\"validation\", seed = 2024)\n",
    "\n",
    "# Prefetch batches while running generator.\n",
    "AUTOTUNE = tf.data.AUTOTUNE\n",
    "train_ds = train_ds.prefetch(buffer_size=AUTOTUNE)\n",
    "val_ds = val_ds.prefetch(buffer_size=AUTOTUNE)\n",
    "test_ds = test_ds.prefetch(buffer_size=AUTOTUNE)"
   ]
  },
  {
   "cell_type": "markdown",
   "metadata": {},
   "source": [
    "## Modeling\n",
    "\n",
    "Transfer learning with EfficientNetV2."
   ]
  },
  {
   "cell_type": "code",
   "execution_count": 3,
   "metadata": {},
   "outputs": [],
   "source": [
    "def build_feature_cnn(input_shape=(96,96,3), num_classes=3):\n",
    "    \n",
    "    # Define feature extraction layer.\n",
    "    feature_extractor = tf.keras.applications.EfficientNetV2S(input_shape = input_shape, include_top = False)\n",
    "    feature_extractor.trainable = False\n",
    "\n",
    "    # Assemble model with new classification head.\n",
    "    inputs = tf.keras.layers.Input(shape=input_shape)\n",
    "    x = feature_extractor(inputs)\n",
    "    x = tf.keras.layers.GlobalAveragePooling2D()(x)\n",
    "    x = tf.keras.layers.Dense(1280, activation=\"tanh\")(x)\n",
    "    x = tf.keras.layers.Dropout(0.4)(x)\n",
    "    for _ in range(5):\n",
    "        x = tf.keras.layers.Dense(512, activation=\"relu\")(x)\n",
    "        x = tf.keras.layers.Dropout(0.4)(x)\n",
    "    outputs = tf.keras.layers.Dense(num_classes, activation=\"softmax\")(x)\n",
    "    model = tf.keras.Model(inputs = inputs, outputs = outputs)\n",
    "\n",
    "    return model\n"
   ]
  },
  {
   "cell_type": "code",
   "execution_count": 4,
   "metadata": {},
   "outputs": [
    {
     "name": "stdout",
     "output_type": "stream",
     "text": [
      "Epoch 1/40\n",
      "334/334 [==============================] - 61s 158ms/step - loss: 1.2107 - accuracy: 0.4990 - val_loss: 0.9010 - val_accuracy: 0.6187\n",
      "Epoch 2/40\n",
      "334/334 [==============================] - 46s 137ms/step - loss: 0.9992 - accuracy: 0.5462 - val_loss: 0.8601 - val_accuracy: 0.6097\n",
      "Epoch 3/40\n",
      "334/334 [==============================] - 55s 165ms/step - loss: 0.9634 - accuracy: 0.5677 - val_loss: 0.8028 - val_accuracy: 0.6404\n",
      "Epoch 4/40\n",
      "334/334 [==============================] - 53s 159ms/step - loss: 0.9348 - accuracy: 0.5862 - val_loss: 0.8285 - val_accuracy: 0.5700\n",
      "Epoch 5/40\n",
      "334/334 [==============================] - 56s 168ms/step - loss: 0.9357 - accuracy: 0.5971 - val_loss: 0.8559 - val_accuracy: 0.5715\n",
      "Epoch 6/40\n",
      "334/334 [==============================] - 56s 167ms/step - loss: 0.9372 - accuracy: 0.5975 - val_loss: 0.7815 - val_accuracy: 0.6352\n",
      "Epoch 7/40\n",
      "334/334 [==============================] - 57s 169ms/step - loss: 0.9182 - accuracy: 0.6147 - val_loss: 0.7399 - val_accuracy: 0.6816\n",
      "Epoch 8/40\n",
      "334/334 [==============================] - 55s 163ms/step - loss: 0.9389 - accuracy: 0.6060 - val_loss: 0.7694 - val_accuracy: 0.6390\n",
      "Epoch 9/40\n",
      "334/334 [==============================] - 56s 167ms/step - loss: 0.9291 - accuracy: 0.6168 - val_loss: 0.7720 - val_accuracy: 0.6524\n",
      "Epoch 10/40\n",
      "334/334 [==============================] - 56s 165ms/step - loss: 0.9595 - accuracy: 0.6143 - val_loss: 0.8420 - val_accuracy: 0.6075\n",
      "Epoch 11/40\n",
      "334/334 [==============================] - 58s 172ms/step - loss: 0.9543 - accuracy: 0.6185 - val_loss: 0.9442 - val_accuracy: 0.5506\n",
      "Epoch 12/40\n",
      "334/334 [==============================] - 54s 161ms/step - loss: 0.9251 - accuracy: 0.6285 - val_loss: 0.7078 - val_accuracy: 0.6906\n",
      "Epoch 13/40\n",
      "334/334 [==============================] - 54s 161ms/step - loss: 0.9612 - accuracy: 0.6246 - val_loss: 0.7515 - val_accuracy: 0.6457\n",
      "Epoch 14/40\n",
      "334/334 [==============================] - 49s 147ms/step - loss: 0.9600 - accuracy: 0.6359 - val_loss: 0.7257 - val_accuracy: 0.6659\n",
      "Epoch 15/40\n",
      "334/334 [==============================] - 53s 158ms/step - loss: 0.9588 - accuracy: 0.6337 - val_loss: 0.6760 - val_accuracy: 0.6959\n",
      "Epoch 16/40\n",
      "334/334 [==============================] - 53s 159ms/step - loss: 0.9296 - accuracy: 0.6395 - val_loss: 0.7003 - val_accuracy: 0.6966\n",
      "Epoch 17/40\n",
      "334/334 [==============================] - 56s 168ms/step - loss: 0.9660 - accuracy: 0.6300 - val_loss: 0.7886 - val_accuracy: 0.6539\n",
      "Epoch 18/40\n",
      "334/334 [==============================] - 54s 161ms/step - loss: 0.9618 - accuracy: 0.6363 - val_loss: 0.8069 - val_accuracy: 0.6449\n",
      "Epoch 19/40\n",
      "334/334 [==============================] - 50s 149ms/step - loss: 0.9314 - accuracy: 0.6487 - val_loss: 0.6660 - val_accuracy: 0.7086\n",
      "Epoch 20/40\n",
      "334/334 [==============================] - 49s 146ms/step - loss: 0.9465 - accuracy: 0.6450 - val_loss: 0.7091 - val_accuracy: 0.6727\n",
      "Epoch 21/40\n",
      "334/334 [==============================] - 51s 153ms/step - loss: 0.9797 - accuracy: 0.6410 - val_loss: 0.7972 - val_accuracy: 0.6225\n",
      "Epoch 22/40\n",
      "334/334 [==============================] - 60s 180ms/step - loss: 0.9640 - accuracy: 0.6439 - val_loss: 0.6452 - val_accuracy: 0.7064\n",
      "Epoch 23/40\n",
      "334/334 [==============================] - 53s 158ms/step - loss: 0.9586 - accuracy: 0.6464 - val_loss: 0.6798 - val_accuracy: 0.6966\n",
      "Epoch 24/40\n",
      "334/334 [==============================] - 60s 179ms/step - loss: 0.9621 - accuracy: 0.6516 - val_loss: 0.6547 - val_accuracy: 0.7109\n",
      "Epoch 25/40\n",
      "334/334 [==============================] - 51s 154ms/step - loss: 0.9426 - accuracy: 0.6506 - val_loss: 0.6967 - val_accuracy: 0.6824\n",
      "Epoch 26/40\n",
      "334/334 [==============================] - 51s 153ms/step - loss: 0.9386 - accuracy: 0.6584 - val_loss: 0.7272 - val_accuracy: 0.6764\n",
      "Epoch 27/40\n",
      "334/334 [==============================] - 45s 135ms/step - loss: 0.9944 - accuracy: 0.6511 - val_loss: 0.7320 - val_accuracy: 0.6614\n",
      "Epoch 28/40\n",
      "334/334 [==============================] - 45s 135ms/step - loss: 0.9829 - accuracy: 0.6580 - val_loss: 0.6710 - val_accuracy: 0.7056\n",
      "Epoch 29/40\n",
      "334/334 [==============================] - 46s 137ms/step - loss: 0.9973 - accuracy: 0.6537 - val_loss: 0.6654 - val_accuracy: 0.7034\n"
     ]
    }
   ],
   "source": [
    "model = build_feature_cnn()\n",
    "early_stopping = tf.keras.callbacks.EarlyStopping(monitor='val_accuracy', patience=5, restore_best_weights=True)\n",
    "model.compile(optimizer=tf.keras.optimizers.legacy.SGD(learning_rate = 0.02), loss='categorical_crossentropy', metrics = ['accuracy'])\n",
    "history = model.fit(train_ds, validation_data = val_ds, epochs = 40, callbacks = [early_stopping])"
   ]
  },
  {
   "cell_type": "code",
   "execution_count": 6,
   "metadata": {},
   "outputs": [],
   "source": [
    "tfjs.converters.save_keras_model(model, \"emotional/public/model\")"
   ]
  },
  {
   "cell_type": "markdown",
   "metadata": {},
   "source": [
    "## Plotting"
   ]
  },
  {
   "cell_type": "code",
   "execution_count": 5,
   "metadata": {},
   "outputs": [],
   "source": [
    "from sklearn.metrics import ConfusionMatrixDisplay\n",
    "from sklearn.metrics import confusion_matrix\n",
    "from sklearn.metrics import roc_curve, auc\n",
    "\n",
    "import plotly.express as px\n",
    "import matplotlib.pyplot as plt\n",
    "import numpy as np\n",
    "import plotly.graph_objects as go"
   ]
  },
  {
   "cell_type": "code",
   "execution_count": 6,
   "metadata": {},
   "outputs": [
    {
     "name": "stdout",
     "output_type": "stream",
     "text": [
      "1/1 [==============================] - 4s 4s/step\n",
      "1/1 [==============================] - 0s 141ms/step\n",
      "1/1 [==============================] - 0s 64ms/step\n",
      "1/1 [==============================] - 0s 159ms/step\n",
      "1/1 [==============================] - 0s 62ms/step\n",
      "1/1 [==============================] - 0s 62ms/step\n",
      "1/1 [==============================] - 0s 64ms/step\n",
      "1/1 [==============================] - 0s 61ms/step\n",
      "1/1 [==============================] - 0s 60ms/step\n",
      "1/1 [==============================] - 0s 60ms/step\n",
      "1/1 [==============================] - 0s 67ms/step\n",
      "1/1 [==============================] - 0s 61ms/step\n",
      "1/1 [==============================] - 0s 64ms/step\n",
      "1/1 [==============================] - 0s 65ms/step\n",
      "1/1 [==============================] - 0s 263ms/step\n",
      "1/1 [==============================] - 0s 64ms/step\n",
      "1/1 [==============================] - 0s 63ms/step\n",
      "1/1 [==============================] - 0s 62ms/step\n",
      "1/1 [==============================] - 0s 61ms/step\n",
      "1/1 [==============================] - 0s 60ms/step\n",
      "1/1 [==============================] - 0s 62ms/step\n",
      "1/1 [==============================] - 0s 60ms/step\n",
      "1/1 [==============================] - 0s 61ms/step\n",
      "1/1 [==============================] - 0s 60ms/step\n",
      "1/1 [==============================] - 0s 62ms/step\n",
      "1/1 [==============================] - 0s 70ms/step\n",
      "1/1 [==============================] - 0s 64ms/step\n",
      "1/1 [==============================] - 0s 63ms/step\n",
      "1/1 [==============================] - 0s 63ms/step\n",
      "1/1 [==============================] - 0s 60ms/step\n",
      "1/1 [==============================] - 0s 69ms/step\n",
      "1/1 [==============================] - 0s 65ms/step\n",
      "1/1 [==============================] - 0s 60ms/step\n",
      "1/1 [==============================] - 0s 60ms/step\n",
      "1/1 [==============================] - 0s 63ms/step\n",
      "1/1 [==============================] - 0s 63ms/step\n",
      "1/1 [==============================] - 0s 61ms/step\n",
      "1/1 [==============================] - 0s 60ms/step\n",
      "1/1 [==============================] - 0s 63ms/step\n",
      "1/1 [==============================] - 0s 62ms/step\n",
      "1/1 [==============================] - 0s 62ms/step\n",
      "1/1 [==============================] - 5s 5s/step\n"
     ]
    }
   ],
   "source": [
    "%%capture\n",
    "# Get all predictions with their known labels in the test_ds.\n",
    "predictions = []\n",
    "labels =  []\n",
    "for x, y in test_ds:\n",
    "  predictions.extend(model.predict(x))\n",
    "  labels.extend(y.numpy())\n",
    "\n",
    "predictions = np.asarray(predictions)\n",
    "labels = np.asarray(labels)\n",
    "max_predictions = np.argmax(predictions, axis = -1)\n",
    "max_labels = np.argmax(labels, axis = -1)"
   ]
  },
  {
   "cell_type": "code",
   "execution_count": 7,
   "metadata": {},
   "outputs": [
    {
     "data": {
      "application/vnd.plotly.v1+json": {
       "config": {
        "plotlyServerURL": "https://plot.ly"
       },
       "data": [
        {
         "hovertemplate": "variable=loss<br>index=%{x}<br>value=%{y}<extra></extra>",
         "legendgroup": "loss",
         "line": {
          "color": "#636efa",
          "dash": "solid"
         },
         "marker": {
          "symbol": "circle"
         },
         "mode": "lines",
         "name": "loss",
         "orientation": "v",
         "showlegend": true,
         "type": "scatter",
         "x": [
          0,
          1,
          2,
          3,
          4,
          5,
          6,
          7,
          8,
          9,
          10,
          11,
          12,
          13,
          14,
          15,
          16,
          17,
          18,
          19,
          20,
          21,
          22,
          23,
          24,
          25,
          26,
          27,
          28
         ],
         "xaxis": "x",
         "y": [
          1.0441300868988037,
          0.8223825097084045,
          0.7669921517372131,
          0.7351276874542236,
          0.716135561466217,
          0.6958519816398621,
          0.6913120746612549,
          0.6738559603691101,
          0.6614502668380737,
          0.6573624610900879,
          0.6511235237121582,
          0.6434292793273926,
          0.6328104138374329,
          0.6291998028755188,
          0.6337539553642273,
          0.625257134437561,
          0.628472626209259,
          0.6262231469154358,
          0.6109275817871094,
          0.6099160313606262,
          0.6086739897727966,
          0.6061083078384399,
          0.6059083342552185,
          0.6038436889648438,
          0.600454568862915,
          0.5925882458686829,
          0.597978413105011,
          0.5925817489624023,
          0.5926276445388794
         ],
         "yaxis": "y"
        },
        {
         "hovertemplate": "variable=accuracy<br>index=%{x}<br>value=%{y}<extra></extra>",
         "legendgroup": "accuracy",
         "line": {
          "color": "#EF553B",
          "dash": "solid"
         },
         "marker": {
          "symbol": "circle"
         },
         "mode": "lines",
         "name": "accuracy",
         "orientation": "v",
         "showlegend": true,
         "type": "scatter",
         "x": [
          0,
          1,
          2,
          3,
          4,
          5,
          6,
          7,
          8,
          9,
          10,
          11,
          12,
          13,
          14,
          15,
          16,
          17,
          18,
          19,
          20,
          21,
          22,
          23,
          24,
          25,
          26,
          27,
          28
         ],
         "xaxis": "x",
         "y": [
          0.5186850428581238,
          0.6189004182815552,
          0.6554275751113892,
          0.664231538772583,
          0.6771565079689026,
          0.6875526905059814,
          0.688208281993866,
          0.7035683989524841,
          0.7030064463615417,
          0.706659197807312,
          0.7073147892951965,
          0.7191158533096313,
          0.7210826873779297,
          0.7179919481277466,
          0.7193031907081604,
          0.7232368588447571,
          0.7234241962432861,
          0.7247354388237,
          0.7307295799255371,
          0.7331647276878357,
          0.7307295799255371,
          0.7342886328697205,
          0.7362555265426636,
          0.7373794317245483,
          0.7363491654396057,
          0.7432799339294434,
          0.7361618280410767,
          0.7356935739517212,
          0.7434672713279724
         ],
         "yaxis": "y"
        },
        {
         "hovertemplate": "variable=val_loss<br>index=%{x}<br>value=%{y}<extra></extra>",
         "legendgroup": "val_loss",
         "line": {
          "color": "#00cc96",
          "dash": "solid"
         },
         "marker": {
          "symbol": "circle"
         },
         "mode": "lines",
         "name": "val_loss",
         "orientation": "v",
         "showlegend": true,
         "type": "scatter",
         "x": [
          0,
          1,
          2,
          3,
          4,
          5,
          6,
          7,
          8,
          9,
          10,
          11,
          12,
          13,
          14,
          15,
          16,
          17,
          18,
          19,
          20,
          21,
          22,
          23,
          24,
          25,
          26,
          27,
          28
         ],
         "xaxis": "x",
         "y": [
          0.8078096508979797,
          0.7473359107971191,
          0.7125009894371033,
          0.6953163146972656,
          0.6936678886413574,
          0.6718865036964417,
          0.6724411249160767,
          0.658038854598999,
          0.6547620892524719,
          0.6559517979621887,
          0.6592785120010376,
          0.6434717774391174,
          0.6333566308021545,
          0.6316831707954407,
          0.6344489455223083,
          0.6261139512062073,
          0.6242216229438782,
          0.6305059194564819,
          0.6248703598976135,
          0.6194107532501221,
          0.6228752732276917,
          0.6196867227554321,
          0.6182608604431152,
          0.6088176965713501,
          0.617420494556427,
          0.6119301319122314,
          0.6180745363235474,
          0.6203625202178955,
          0.6146090030670166
         ],
         "yaxis": "y"
        },
        {
         "hovertemplate": "variable=val_accuracy<br>index=%{x}<br>value=%{y}<extra></extra>",
         "legendgroup": "val_accuracy",
         "line": {
          "color": "#ab63fa",
          "dash": "solid"
         },
         "marker": {
          "symbol": "circle"
         },
         "mode": "lines",
         "name": "val_accuracy",
         "orientation": "v",
         "showlegend": true,
         "type": "scatter",
         "x": [
          0,
          1,
          2,
          3,
          4,
          5,
          6,
          7,
          8,
          9,
          10,
          11,
          12,
          13,
          14,
          15,
          16,
          17,
          18,
          19,
          20,
          21,
          22,
          23,
          24,
          25,
          26,
          27,
          28
         ],
         "xaxis": "x",
         "y": [
          0.6554307341575623,
          0.6794007420539856,
          0.6921348571777344,
          0.704119861125946,
          0.6958801746368408,
          0.7093632817268372,
          0.7071161270141602,
          0.7288389801979065,
          0.7176029682159424,
          0.7235954999923706,
          0.7116104960441589,
          0.7333333492279053,
          0.7250936627388,
          0.7415730357170105,
          0.7303370833396912,
          0.7310861349105835,
          0.7318351864814758,
          0.7310861349105835,
          0.7213482856750488,
          0.7310861349105835,
          0.7280898690223694,
          0.7280898690223694,
          0.7280898690223694,
          0.7348314523696899,
          0.7355805039405823,
          0.7325842976570129,
          0.7393258213996887,
          0.7258427143096924,
          0.7348314523696899
         ],
         "yaxis": "y"
        }
       ],
       "layout": {
        "height": 800,
        "legend": {
         "title": {
          "text": "Monitored Value"
         },
         "tracegroupgap": 0
        },
        "margin": {
         "t": 60
        },
        "template": {
         "data": {
          "bar": [
           {
            "error_x": {
             "color": "#2a3f5f"
            },
            "error_y": {
             "color": "#2a3f5f"
            },
            "marker": {
             "line": {
              "color": "white",
              "width": 0.5
             },
             "pattern": {
              "fillmode": "overlay",
              "size": 10,
              "solidity": 0.2
             }
            },
            "type": "bar"
           }
          ],
          "barpolar": [
           {
            "marker": {
             "line": {
              "color": "white",
              "width": 0.5
             },
             "pattern": {
              "fillmode": "overlay",
              "size": 10,
              "solidity": 0.2
             }
            },
            "type": "barpolar"
           }
          ],
          "carpet": [
           {
            "aaxis": {
             "endlinecolor": "#2a3f5f",
             "gridcolor": "#C8D4E3",
             "linecolor": "#C8D4E3",
             "minorgridcolor": "#C8D4E3",
             "startlinecolor": "#2a3f5f"
            },
            "baxis": {
             "endlinecolor": "#2a3f5f",
             "gridcolor": "#C8D4E3",
             "linecolor": "#C8D4E3",
             "minorgridcolor": "#C8D4E3",
             "startlinecolor": "#2a3f5f"
            },
            "type": "carpet"
           }
          ],
          "choropleth": [
           {
            "colorbar": {
             "outlinewidth": 0,
             "ticks": ""
            },
            "type": "choropleth"
           }
          ],
          "contour": [
           {
            "colorbar": {
             "outlinewidth": 0,
             "ticks": ""
            },
            "colorscale": [
             [
              0,
              "#0d0887"
             ],
             [
              0.1111111111111111,
              "#46039f"
             ],
             [
              0.2222222222222222,
              "#7201a8"
             ],
             [
              0.3333333333333333,
              "#9c179e"
             ],
             [
              0.4444444444444444,
              "#bd3786"
             ],
             [
              0.5555555555555556,
              "#d8576b"
             ],
             [
              0.6666666666666666,
              "#ed7953"
             ],
             [
              0.7777777777777778,
              "#fb9f3a"
             ],
             [
              0.8888888888888888,
              "#fdca26"
             ],
             [
              1,
              "#f0f921"
             ]
            ],
            "type": "contour"
           }
          ],
          "contourcarpet": [
           {
            "colorbar": {
             "outlinewidth": 0,
             "ticks": ""
            },
            "type": "contourcarpet"
           }
          ],
          "heatmap": [
           {
            "colorbar": {
             "outlinewidth": 0,
             "ticks": ""
            },
            "colorscale": [
             [
              0,
              "#0d0887"
             ],
             [
              0.1111111111111111,
              "#46039f"
             ],
             [
              0.2222222222222222,
              "#7201a8"
             ],
             [
              0.3333333333333333,
              "#9c179e"
             ],
             [
              0.4444444444444444,
              "#bd3786"
             ],
             [
              0.5555555555555556,
              "#d8576b"
             ],
             [
              0.6666666666666666,
              "#ed7953"
             ],
             [
              0.7777777777777778,
              "#fb9f3a"
             ],
             [
              0.8888888888888888,
              "#fdca26"
             ],
             [
              1,
              "#f0f921"
             ]
            ],
            "type": "heatmap"
           }
          ],
          "heatmapgl": [
           {
            "colorbar": {
             "outlinewidth": 0,
             "ticks": ""
            },
            "colorscale": [
             [
              0,
              "#0d0887"
             ],
             [
              0.1111111111111111,
              "#46039f"
             ],
             [
              0.2222222222222222,
              "#7201a8"
             ],
             [
              0.3333333333333333,
              "#9c179e"
             ],
             [
              0.4444444444444444,
              "#bd3786"
             ],
             [
              0.5555555555555556,
              "#d8576b"
             ],
             [
              0.6666666666666666,
              "#ed7953"
             ],
             [
              0.7777777777777778,
              "#fb9f3a"
             ],
             [
              0.8888888888888888,
              "#fdca26"
             ],
             [
              1,
              "#f0f921"
             ]
            ],
            "type": "heatmapgl"
           }
          ],
          "histogram": [
           {
            "marker": {
             "pattern": {
              "fillmode": "overlay",
              "size": 10,
              "solidity": 0.2
             }
            },
            "type": "histogram"
           }
          ],
          "histogram2d": [
           {
            "colorbar": {
             "outlinewidth": 0,
             "ticks": ""
            },
            "colorscale": [
             [
              0,
              "#0d0887"
             ],
             [
              0.1111111111111111,
              "#46039f"
             ],
             [
              0.2222222222222222,
              "#7201a8"
             ],
             [
              0.3333333333333333,
              "#9c179e"
             ],
             [
              0.4444444444444444,
              "#bd3786"
             ],
             [
              0.5555555555555556,
              "#d8576b"
             ],
             [
              0.6666666666666666,
              "#ed7953"
             ],
             [
              0.7777777777777778,
              "#fb9f3a"
             ],
             [
              0.8888888888888888,
              "#fdca26"
             ],
             [
              1,
              "#f0f921"
             ]
            ],
            "type": "histogram2d"
           }
          ],
          "histogram2dcontour": [
           {
            "colorbar": {
             "outlinewidth": 0,
             "ticks": ""
            },
            "colorscale": [
             [
              0,
              "#0d0887"
             ],
             [
              0.1111111111111111,
              "#46039f"
             ],
             [
              0.2222222222222222,
              "#7201a8"
             ],
             [
              0.3333333333333333,
              "#9c179e"
             ],
             [
              0.4444444444444444,
              "#bd3786"
             ],
             [
              0.5555555555555556,
              "#d8576b"
             ],
             [
              0.6666666666666666,
              "#ed7953"
             ],
             [
              0.7777777777777778,
              "#fb9f3a"
             ],
             [
              0.8888888888888888,
              "#fdca26"
             ],
             [
              1,
              "#f0f921"
             ]
            ],
            "type": "histogram2dcontour"
           }
          ],
          "mesh3d": [
           {
            "colorbar": {
             "outlinewidth": 0,
             "ticks": ""
            },
            "type": "mesh3d"
           }
          ],
          "parcoords": [
           {
            "line": {
             "colorbar": {
              "outlinewidth": 0,
              "ticks": ""
             }
            },
            "type": "parcoords"
           }
          ],
          "pie": [
           {
            "automargin": true,
            "type": "pie"
           }
          ],
          "scatter": [
           {
            "fillpattern": {
             "fillmode": "overlay",
             "size": 10,
             "solidity": 0.2
            },
            "type": "scatter"
           }
          ],
          "scatter3d": [
           {
            "line": {
             "colorbar": {
              "outlinewidth": 0,
              "ticks": ""
             }
            },
            "marker": {
             "colorbar": {
              "outlinewidth": 0,
              "ticks": ""
             }
            },
            "type": "scatter3d"
           }
          ],
          "scattercarpet": [
           {
            "marker": {
             "colorbar": {
              "outlinewidth": 0,
              "ticks": ""
             }
            },
            "type": "scattercarpet"
           }
          ],
          "scattergeo": [
           {
            "marker": {
             "colorbar": {
              "outlinewidth": 0,
              "ticks": ""
             }
            },
            "type": "scattergeo"
           }
          ],
          "scattergl": [
           {
            "marker": {
             "colorbar": {
              "outlinewidth": 0,
              "ticks": ""
             }
            },
            "type": "scattergl"
           }
          ],
          "scattermapbox": [
           {
            "marker": {
             "colorbar": {
              "outlinewidth": 0,
              "ticks": ""
             }
            },
            "type": "scattermapbox"
           }
          ],
          "scatterpolar": [
           {
            "marker": {
             "colorbar": {
              "outlinewidth": 0,
              "ticks": ""
             }
            },
            "type": "scatterpolar"
           }
          ],
          "scatterpolargl": [
           {
            "marker": {
             "colorbar": {
              "outlinewidth": 0,
              "ticks": ""
             }
            },
            "type": "scatterpolargl"
           }
          ],
          "scatterternary": [
           {
            "marker": {
             "colorbar": {
              "outlinewidth": 0,
              "ticks": ""
             }
            },
            "type": "scatterternary"
           }
          ],
          "surface": [
           {
            "colorbar": {
             "outlinewidth": 0,
             "ticks": ""
            },
            "colorscale": [
             [
              0,
              "#0d0887"
             ],
             [
              0.1111111111111111,
              "#46039f"
             ],
             [
              0.2222222222222222,
              "#7201a8"
             ],
             [
              0.3333333333333333,
              "#9c179e"
             ],
             [
              0.4444444444444444,
              "#bd3786"
             ],
             [
              0.5555555555555556,
              "#d8576b"
             ],
             [
              0.6666666666666666,
              "#ed7953"
             ],
             [
              0.7777777777777778,
              "#fb9f3a"
             ],
             [
              0.8888888888888888,
              "#fdca26"
             ],
             [
              1,
              "#f0f921"
             ]
            ],
            "type": "surface"
           }
          ],
          "table": [
           {
            "cells": {
             "fill": {
              "color": "#EBF0F8"
             },
             "line": {
              "color": "white"
             }
            },
            "header": {
             "fill": {
              "color": "#C8D4E3"
             },
             "line": {
              "color": "white"
             }
            },
            "type": "table"
           }
          ]
         },
         "layout": {
          "annotationdefaults": {
           "arrowcolor": "#2a3f5f",
           "arrowhead": 0,
           "arrowwidth": 1
          },
          "autotypenumbers": "strict",
          "coloraxis": {
           "colorbar": {
            "outlinewidth": 0,
            "ticks": ""
           }
          },
          "colorscale": {
           "diverging": [
            [
             0,
             "#8e0152"
            ],
            [
             0.1,
             "#c51b7d"
            ],
            [
             0.2,
             "#de77ae"
            ],
            [
             0.3,
             "#f1b6da"
            ],
            [
             0.4,
             "#fde0ef"
            ],
            [
             0.5,
             "#f7f7f7"
            ],
            [
             0.6,
             "#e6f5d0"
            ],
            [
             0.7,
             "#b8e186"
            ],
            [
             0.8,
             "#7fbc41"
            ],
            [
             0.9,
             "#4d9221"
            ],
            [
             1,
             "#276419"
            ]
           ],
           "sequential": [
            [
             0,
             "#0d0887"
            ],
            [
             0.1111111111111111,
             "#46039f"
            ],
            [
             0.2222222222222222,
             "#7201a8"
            ],
            [
             0.3333333333333333,
             "#9c179e"
            ],
            [
             0.4444444444444444,
             "#bd3786"
            ],
            [
             0.5555555555555556,
             "#d8576b"
            ],
            [
             0.6666666666666666,
             "#ed7953"
            ],
            [
             0.7777777777777778,
             "#fb9f3a"
            ],
            [
             0.8888888888888888,
             "#fdca26"
            ],
            [
             1,
             "#f0f921"
            ]
           ],
           "sequentialminus": [
            [
             0,
             "#0d0887"
            ],
            [
             0.1111111111111111,
             "#46039f"
            ],
            [
             0.2222222222222222,
             "#7201a8"
            ],
            [
             0.3333333333333333,
             "#9c179e"
            ],
            [
             0.4444444444444444,
             "#bd3786"
            ],
            [
             0.5555555555555556,
             "#d8576b"
            ],
            [
             0.6666666666666666,
             "#ed7953"
            ],
            [
             0.7777777777777778,
             "#fb9f3a"
            ],
            [
             0.8888888888888888,
             "#fdca26"
            ],
            [
             1,
             "#f0f921"
            ]
           ]
          },
          "colorway": [
           "#636efa",
           "#EF553B",
           "#00cc96",
           "#ab63fa",
           "#FFA15A",
           "#19d3f3",
           "#FF6692",
           "#B6E880",
           "#FF97FF",
           "#FECB52"
          ],
          "font": {
           "color": "#2a3f5f"
          },
          "geo": {
           "bgcolor": "white",
           "lakecolor": "white",
           "landcolor": "white",
           "showlakes": true,
           "showland": true,
           "subunitcolor": "#C8D4E3"
          },
          "hoverlabel": {
           "align": "left"
          },
          "hovermode": "closest",
          "mapbox": {
           "style": "light"
          },
          "paper_bgcolor": "white",
          "plot_bgcolor": "white",
          "polar": {
           "angularaxis": {
            "gridcolor": "#EBF0F8",
            "linecolor": "#EBF0F8",
            "ticks": ""
           },
           "bgcolor": "white",
           "radialaxis": {
            "gridcolor": "#EBF0F8",
            "linecolor": "#EBF0F8",
            "ticks": ""
           }
          },
          "scene": {
           "xaxis": {
            "backgroundcolor": "white",
            "gridcolor": "#DFE8F3",
            "gridwidth": 2,
            "linecolor": "#EBF0F8",
            "showbackground": true,
            "ticks": "",
            "zerolinecolor": "#EBF0F8"
           },
           "yaxis": {
            "backgroundcolor": "white",
            "gridcolor": "#DFE8F3",
            "gridwidth": 2,
            "linecolor": "#EBF0F8",
            "showbackground": true,
            "ticks": "",
            "zerolinecolor": "#EBF0F8"
           },
           "zaxis": {
            "backgroundcolor": "white",
            "gridcolor": "#DFE8F3",
            "gridwidth": 2,
            "linecolor": "#EBF0F8",
            "showbackground": true,
            "ticks": "",
            "zerolinecolor": "#EBF0F8"
           }
          },
          "shapedefaults": {
           "line": {
            "color": "#2a3f5f"
           }
          },
          "ternary": {
           "aaxis": {
            "gridcolor": "#DFE8F3",
            "linecolor": "#A2B1C6",
            "ticks": ""
           },
           "baxis": {
            "gridcolor": "#DFE8F3",
            "linecolor": "#A2B1C6",
            "ticks": ""
           },
           "bgcolor": "white",
           "caxis": {
            "gridcolor": "#DFE8F3",
            "linecolor": "#A2B1C6",
            "ticks": ""
           }
          },
          "title": {
           "x": 0.05
          },
          "xaxis": {
           "automargin": true,
           "gridcolor": "#EBF0F8",
           "linecolor": "#EBF0F8",
           "ticks": "",
           "title": {
            "standoff": 15
           },
           "zerolinecolor": "#EBF0F8",
           "zerolinewidth": 2
          },
          "yaxis": {
           "automargin": true,
           "gridcolor": "#EBF0F8",
           "linecolor": "#EBF0F8",
           "ticks": "",
           "title": {
            "standoff": 15
           },
           "zerolinecolor": "#EBF0F8",
           "zerolinewidth": 2
          }
         }
        },
        "title": {
         "text": "Training Epochs"
        },
        "width": 1000,
        "xaxis": {
         "anchor": "y",
         "domain": [
          0,
          1
         ],
         "title": {
          "text": "Epoch"
         }
        },
        "yaxis": {
         "anchor": "x",
         "domain": [
          0,
          1
         ],
         "range": [
          0,
          1
         ],
         "title": {
          "text": ""
         }
        }
       }
      }
     },
     "metadata": {},
     "output_type": "display_data"
    }
   ],
   "source": [
    "# Plot training history.\n",
    "\n",
    "fig = px.line(history.history, height = 800, width = 1000)\n",
    "fig.update_layout(\n",
    "    template = \"plotly_white\", \n",
    "    yaxis_title='',\n",
    "    xaxis_title='Epoch',\n",
    "    yaxis_range=(0, 1),\n",
    "    title = \"Training Epochs\",\n",
    "    legend_title = \"Monitored Value\"\n",
    ")"
   ]
  },
  {
   "cell_type": "code",
   "execution_count": 8,
   "metadata": {},
   "outputs": [
    {
     "data": {
      "image/png": "[encoded data removed]",
      "text/plain": [
       "<Figure size 2400x1600 with 2 Axes>"
      ]
     },
     "metadata": {},
     "output_type": "display_data"
    }
   ],
   "source": [
    "# Plot confusion matrix.\n",
    "cm = confusion_matrix(max_labels, max_predictions)\n",
    "disp = ConfusionMatrixDisplay(confusion_matrix=cm, display_labels=list(LABEL_MAP.values()))\n",
    "disp.plot(cmap=plt.cm.Blues)\n",
    "fig =plt.gcf()\n",
    "fig.set_size_inches(12, 8)\n",
    "fig.set_dpi(200)\n",
    "plt.show()"
   ]
  },
  {
   "cell_type": "code",
   "execution_count": 9,
   "metadata": {},
   "outputs": [
    {
     "data": {
      "application/vnd.plotly.v1+json": {
       "config": {
        "plotlyServerURL": "https://plot.ly"
       },
       "data": [
        {
         "mode": "lines",
         "name": "fear (AUC = 0.96)",
         "type": "scatter",
         "x": [
          0,
          0,
          0,
          0,
          0,
          0.0009852216748768472,
          0.0009852216748768472,
          0.0019704433497536944,
          0.0019704433497536944,
          0.002955665024630542,
          0.002955665024630542,
          0.003940886699507389,
          0.003940886699507389,
          0.0049261083743842365,
          0.0049261083743842365,
          0.005911330049261084,
          0.005911330049261084,
          0.007881773399014778,
          0.007881773399014778,
          0.008866995073891626,
          0.008866995073891626,
          0.009852216748768473,
          0.009852216748768473,
          0.01083743842364532,
          0.01083743842364532,
          0.011822660098522168,
          0.011822660098522168,
          0.012807881773399015,
          0.012807881773399015,
          0.013793103448275862,
          0.013793103448275862,
          0.014778325123152709,
          0.014778325123152709,
          0.015763546798029555,
          0.015763546798029555,
          0.016748768472906402,
          0.016748768472906402,
          0.017733990147783252,
          0.017733990147783252,
          0.0187192118226601,
          0.0187192118226601,
          0.019704433497536946,
          0.019704433497536946,
          0.020689655172413793,
          0.020689655172413793,
          0.022660098522167486,
          0.022660098522167486,
          0.024630541871921183,
          0.024630541871921183,
          0.029556650246305417,
          0.029556650246305417,
          0.030541871921182268,
          0.030541871921182268,
          0.03152709359605911,
          0.03152709359605911,
          0.03251231527093596,
          0.03251231527093596,
          0.034482758620689655,
          0.034482758620689655,
          0.03645320197044335,
          0.03645320197044335,
          0.03940886699507389,
          0.03940886699507389,
          0.04039408866995074,
          0.04039408866995074,
          0.041379310344827586,
          0.041379310344827586,
          0.04334975369458128,
          0.04334975369458128,
          0.04433497536945813,
          0.04433497536945813,
          0.04532019704433497,
          0.04532019704433497,
          0.04729064039408867,
          0.04729064039408867,
          0.04827586206896552,
          0.04827586206896552,
          0.054187192118226604,
          0.054187192118226604,
          0.05517241379310345,
          0.05517241379310345,
          0.06502463054187192,
          0.06502463054187192,
          0.0729064039408867,
          0.0729064039408867,
          0.0748768472906404,
          0.0748768472906404,
          0.07586206896551724,
          0.07586206896551724,
          0.07881773399014778,
          0.07881773399014778,
          0.08374384236453201,
          0.08374384236453201,
          0.0916256157635468,
          0.0916256157635468,
          0.09556650246305419,
          0.09556650246305419,
          0.09852216748768473,
          0.09852216748768473,
          0.11822660098522167,
          0.11822660098522167,
          0.11921182266009853,
          0.11921182266009853,
          0.13201970443349753,
          0.13201970443349753,
          0.14482758620689656,
          0.14482758620689656,
          0.15073891625615762,
          0.15073891625615762,
          0.15270935960591134,
          0.15270935960591134,
          0.15763546798029557,
          0.15763546798029557,
          0.16157635467980297,
          0.16157635467980297,
          0.17536945812807883,
          0.17536945812807883,
          0.1812807881773399,
          0.1812807881773399,
          0.18423645320197043,
          0.18423645320197043,
          0.1921182266009852,
          0.1921182266009852,
          0.20492610837438424,
          0.20492610837438424,
          0.20985221674876847,
          0.20985221674876847,
          0.23645320197044334,
          0.23645320197044334,
          0.24926108374384237,
          0.24926108374384237,
          0.25320197044334974,
          0.25320197044334974,
          0.2738916256157635,
          0.2738916256157635,
          0.2827586206896552,
          0.2827586206896552,
          0.30049261083743845,
          0.30049261083743845,
          0.3054187192118227,
          0.3054187192118227,
          0.30640394088669953,
          0.30640394088669953,
          0.32906403940886697,
          0.32906403940886697,
          0.3310344827586207,
          0.3310344827586207,
          0.3605911330049261,
          0.3605911330049261,
          0.4689655172413793,
          0.4689655172413793,
          0.4886699507389163,
          0.4886699507389163,
          0.5004926108374385,
          0.5004926108374385,
          0.5379310344827586,
          0.5379310344827586,
          0.5665024630541872,
          0.5684729064039409,
          1
         ],
         "y": [
          0,
          0.003134796238244514,
          0.09090909090909091,
          0.10031347962382445,
          0.14733542319749215,
          0.14733542319749215,
          0.21003134796238246,
          0.21003134796238246,
          0.3605015673981191,
          0.3605015673981191,
          0.36990595611285265,
          0.36990595611285265,
          0.39184952978056425,
          0.39184952978056425,
          0.5172413793103449,
          0.5172413793103449,
          0.5893416927899686,
          0.5893416927899686,
          0.6018808777429467,
          0.6018808777429467,
          0.6081504702194357,
          0.6081504702194357,
          0.6144200626959248,
          0.6144200626959248,
          0.6206896551724138,
          0.6206896551724138,
          0.658307210031348,
          0.658307210031348,
          0.670846394984326,
          0.670846394984326,
          0.6833855799373041,
          0.6833855799373041,
          0.6865203761755486,
          0.6865203761755486,
          0.6959247648902821,
          0.6959247648902821,
          0.7053291536050157,
          0.7053291536050157,
          0.7210031347962382,
          0.7210031347962382,
          0.7272727272727273,
          0.7272727272727273,
          0.7429467084639498,
          0.7429467084639498,
          0.7492163009404389,
          0.7492163009404389,
          0.7523510971786834,
          0.7523510971786834,
          0.7586206896551724,
          0.7586206896551724,
          0.7617554858934169,
          0.7617554858934169,
          0.7648902821316614,
          0.7648902821316614,
          0.7774294670846394,
          0.7774294670846394,
          0.786833855799373,
          0.786833855799373,
          0.799373040752351,
          0.799373040752351,
          0.8025078369905956,
          0.8025078369905956,
          0.8275862068965517,
          0.8275862068965517,
          0.8307210031347962,
          0.8307210031347962,
          0.8338557993730408,
          0.8338557993730408,
          0.8401253918495298,
          0.8401253918495298,
          0.8432601880877743,
          0.8432601880877743,
          0.8463949843260188,
          0.8463949843260188,
          0.8526645768025078,
          0.8526645768025078,
          0.8620689655172413,
          0.8620689655172413,
          0.8652037617554859,
          0.8652037617554859,
          0.8714733542319749,
          0.8714733542319749,
          0.877742946708464,
          0.877742946708464,
          0.8808777429467085,
          0.8808777429467085,
          0.8840125391849529,
          0.8840125391849529,
          0.8871473354231975,
          0.8871473354231975,
          0.8934169278996865,
          0.8934169278996865,
          0.896551724137931,
          0.896551724137931,
          0.8996865203761756,
          0.8996865203761756,
          0.9028213166144201,
          0.9028213166144201,
          0.9059561128526645,
          0.9059561128526645,
          0.9090909090909091,
          0.9090909090909091,
          0.9122257053291536,
          0.9122257053291536,
          0.9153605015673981,
          0.9153605015673981,
          0.9216300940438872,
          0.9216300940438872,
          0.9247648902821317,
          0.9247648902821317,
          0.9278996865203761,
          0.9278996865203761,
          0.9310344827586207,
          0.9310344827586207,
          0.9341692789968652,
          0.9341692789968652,
          0.9373040752351097,
          0.9373040752351097,
          0.9404388714733543,
          0.9404388714733543,
          0.9435736677115988,
          0.9435736677115988,
          0.9467084639498433,
          0.9467084639498433,
          0.9498432601880877,
          0.9498432601880877,
          0.9529780564263323,
          0.9529780564263323,
          0.9561128526645768,
          0.9561128526645768,
          0.9592476489028213,
          0.9592476489028213,
          0.9623824451410659,
          0.9623824451410659,
          0.9655172413793104,
          0.9655172413793104,
          0.9686520376175548,
          0.9686520376175548,
          0.9717868338557993,
          0.9717868338557993,
          0.9749216300940439,
          0.9749216300940439,
          0.9780564263322884,
          0.9780564263322884,
          0.9811912225705329,
          0.9811912225705329,
          0.9843260188087775,
          0.9843260188087775,
          0.987460815047022,
          0.987460815047022,
          0.9905956112852664,
          0.9905956112852664,
          0.9937304075235109,
          0.9937304075235109,
          0.9968652037617555,
          0.9968652037617555,
          1,
          1,
          1,
          1
         ]
        },
        {
         "mode": "lines",
         "name": "happy (AUC = 0.88)",
         "type": "scatter",
         "x": [
          0,
          0,
          0,
          0.0012091898428053204,
          0.0012091898428053204,
          0.0024183796856106408,
          0.0024183796856106408,
          0.0036275695284159614,
          0.0036275695284159614,
          0.0048367593712212815,
          0.0048367593712212815,
          0.006045949214026602,
          0.006045949214026602,
          0.007255139056831923,
          0.007255139056831923,
          0.008464328899637243,
          0.008464328899637243,
          0.009673518742442563,
          0.009673518742442563,
          0.010882708585247884,
          0.010882708585247884,
          0.012091898428053204,
          0.012091898428053204,
          0.013301088270858524,
          0.013301088270858524,
          0.014510278113663845,
          0.014510278113663845,
          0.016928657799274487,
          0.016928657799274487,
          0.018137847642079808,
          0.018137847642079808,
          0.019347037484885126,
          0.019347037484885126,
          0.020556227327690448,
          0.020556227327690448,
          0.02176541717049577,
          0.02176541717049577,
          0.022974607013301087,
          0.022974607013301087,
          0.02539298669891173,
          0.02539298669891173,
          0.026602176541717048,
          0.026602176541717048,
          0.02781136638452237,
          0.02781136638452237,
          0.02902055622732769,
          0.02902055622732769,
          0.030229746070133012,
          0.030229746070133012,
          0.03143893591293833,
          0.03143893591293833,
          0.032648125755743655,
          0.032648125755743655,
          0.03506650544135429,
          0.03506650544135429,
          0.036275695284159616,
          0.036275695284159616,
          0.037484885126964934,
          0.037484885126964934,
          0.03869407496977025,
          0.03869407496977025,
          0.041112454655380895,
          0.041112454655380895,
          0.04232164449818621,
          0.04232164449818621,
          0.04353083434099154,
          0.04353083434099154,
          0.044740024183796856,
          0.044740024183796856,
          0.0471584038694075,
          0.0471584038694075,
          0.04836759371221282,
          0.04836759371221282,
          0.05078597339782346,
          0.05078597339782346,
          0.05199516324062878,
          0.05199516324062878,
          0.05441354292623942,
          0.05441354292623942,
          0.05562273276904474,
          0.05562273276904474,
          0.0592503022974607,
          0.0592503022974607,
          0.060459492140266025,
          0.060459492140266025,
          0.06287787182587666,
          0.06287787182587666,
          0.06408706166868199,
          0.06408706166868199,
          0.06771463119709795,
          0.06771463119709795,
          0.06892382103990327,
          0.06892382103990327,
          0.07013301088270858,
          0.07013301088270858,
          0.07134220072551391,
          0.07134220072551391,
          0.07376058041112454,
          0.07376058041112454,
          0.07496977025392987,
          0.07496977025392987,
          0.0761789600967352,
          0.0761789600967352,
          0.0773881499395405,
          0.0773881499395405,
          0.07980652962515115,
          0.07980652962515115,
          0.08101571946795647,
          0.08101571946795647,
          0.08222490931076179,
          0.08222490931076179,
          0.08706166868198308,
          0.08706166868198308,
          0.08827085852478839,
          0.08827085852478839,
          0.09068923821039904,
          0.09068923821039904,
          0.09189842805320435,
          0.09189842805320435,
          0.09310761789600967,
          0.09310761789600967,
          0.09673518742442563,
          0.09673518742442563,
          0.09794437726723096,
          0.09794437726723096,
          0.09915356711003627,
          0.09915356711003627,
          0.10157194679564692,
          0.10157194679564692,
          0.10278113663845223,
          0.10278113663845223,
          0.10399032648125756,
          0.10399032648125756,
          0.10519951632406288,
          0.10519951632406288,
          0.10761789600967352,
          0.10761789600967352,
          0.11003627569528417,
          0.11003627569528417,
          0.11366384522370013,
          0.11366384522370013,
          0.11487303506650544,
          0.11487303506650544,
          0.11970979443772672,
          0.11970979443772672,
          0.12212817412333736,
          0.12212817412333736,
          0.12333736396614269,
          0.12333736396614269,
          0.12454655380894801,
          0.12454655380894801,
          0.12696493349455865,
          0.12696493349455865,
          0.12817412333736397,
          0.12817412333736397,
          0.13059250302297462,
          0.13059250302297462,
          0.1354292623941959,
          0.1354292623941959,
          0.13663845223700122,
          0.13663845223700122,
          0.14026602176541716,
          0.14026602176541716,
          0.1414752116082225,
          0.1414752116082225,
          0.14389359129383314,
          0.14389359129383314,
          0.14510278113663846,
          0.14510278113663846,
          0.1487303506650544,
          0.1487303506650544,
          0.15356711003627568,
          0.15356711003627568,
          0.154776299879081,
          0.154776299879081,
          0.16324062877871826,
          0.16324062877871826,
          0.1656590084643289,
          0.1656590084643289,
          0.16928657799274485,
          0.16928657799274485,
          0.17412333736396615,
          0.17412333736396615,
          0.17533252720677148,
          0.17533252720677148,
          0.1825876662636034,
          0.1825876662636034,
          0.19709794437726724,
          0.19709794437726724,
          0.19830713422007254,
          0.19830713422007254,
          0.20314389359129384,
          0.20314389359129384,
          0.20435308343409916,
          0.20435308343409916,
          0.20556227327690446,
          0.20556227327690446,
          0.2067714631197098,
          0.2067714631197098,
          0.21039903264812576,
          0.21039903264812576,
          0.21644498186215236,
          0.21644498186215236,
          0.21765417170495768,
          0.21765417170495768,
          0.22370012091898428,
          0.22370012091898428,
          0.2249093107617896,
          0.2249093107617896,
          0.23216444981862153,
          0.23216444981862153,
          0.23458282950423218,
          0.23458282950423218,
          0.2370012091898428,
          0.2370012091898428,
          0.24425634824667472,
          0.24425634824667472,
          0.2478839177750907,
          0.2478839177750907,
          0.24909310761789602,
          0.24909310761789602,
          0.2503022974607013,
          0.2503022974607013,
          0.25272067714631197,
          0.25272067714631197,
          0.2539298669891173,
          0.2539298669891173,
          0.2551390568319226,
          0.2551390568319226,
          0.25755743651753327,
          0.25755743651753327,
          0.2587666263603386,
          0.2587666263603386,
          0.2660217654171705,
          0.2660217654171705,
          0.26964933494558646,
          0.26964933494558646,
          0.2708585247883918,
          0.2708585247883918,
          0.27327690447400244,
          0.27327690447400244,
          0.27448609431680776,
          0.27448609431680776,
          0.2781136638452237,
          0.2781136638452237,
          0.28053204353083433,
          0.28053204353083433,
          0.28174123337363965,
          0.28174123337363965,
          0.2841596130592503,
          0.2841596130592503,
          0.28536880290205563,
          0.28536880290205563,
          0.2877871825876663,
          0.2877871825876663,
          0.29020556227327693,
          0.29020556227327693,
          0.30350665054413545,
          0.30350665054413545,
          0.3047158403869408,
          0.3047158403869408,
          0.30713422007255137,
          0.30713422007255137,
          0.31076178960096734,
          0.31076178960096734,
          0.313180169286578,
          0.313180169286578,
          0.3264812575574365,
          0.3264812575574365,
          0.32769044740024184,
          0.32769044740024184,
          0.3313180169286578,
          0.3313180169286578,
          0.33252720677146314,
          0.33252720677146314,
          0.3373639661426844,
          0.3373639661426844,
          0.33978234582829503,
          0.33978234582829503,
          0.35066505441354295,
          0.35066505441354295,
          0.3542926239419589,
          0.3542926239419589,
          0.3555018137847642,
          0.3555018137847642,
          0.36638452237001207,
          0.36638452237001207,
          0.3688029020556227,
          0.3688029020556227,
          0.373639661426844,
          0.373639661426844,
          0.37484885126964934,
          0.37484885126964934,
          0.3845223700120919,
          0.3845223700120919,
          0.3857315598548972,
          0.3857315598548972,
          0.3893591293833132,
          0.3893591293833132,
          0.3954050785973398,
          0.3954050785973398,
          0.3966142684401451,
          0.3966142684401451,
          0.4026602176541717,
          0.4026602176541717,
          0.40386940749697703,
          0.40386940749697703,
          0.41233373639661425,
          0.41233373639661425,
          0.4135429262394196,
          0.4135429262394196,
          0.4195888754534462,
          0.4195888754534462,
          0.4207980652962515,
          0.4207980652962515,
          0.42321644498186217,
          0.42321644498186217,
          0.42926239419588874,
          0.42926239419588874,
          0.43409915356711004,
          0.43409915356711004,
          0.4619105199516324,
          0.4619105199516324,
          0.47762998790810157,
          0.47762998790810157,
          0.49939540507859737,
          0.49939540507859737,
          0.5078597339782346,
          0.5078597339782346,
          0.5163240628778718,
          0.5163240628778718,
          0.5175332527206772,
          0.5175332527206772,
          0.5223700120918985,
          0.5223700120918985,
          0.528415961305925,
          0.528415961305925,
          0.5405078597339782,
          0.5405078597339782,
          0.5417170495767836,
          0.5417170495767836,
          0.5477629987908101,
          0.5477629987908101,
          0.5501813784764208,
          0.5501813784764208,
          0.5550181378476421,
          0.5550181378476421,
          0.5755743651753326,
          0.5755743651753326,
          0.5949214026602176,
          0.5949214026602176,
          0.6130592503022975,
          0.6130592503022975,
          0.6251511487303507,
          0.6251511487303507,
          0.626360338573156,
          0.626360338573156,
          0.6287787182587666,
          0.6287787182587666,
          0.6432889963724304,
          0.6432889963724304,
          0.7013301088270859,
          0.7013301088270859,
          0.7037484885126964,
          0.7037484885126964,
          0.7243047158403869,
          0.7243047158403869,
          0.7327690447400241,
          0.7327690447400241,
          0.7823458282950423,
          0.7823458282950423,
          0.7980652962515115,
          0.7980652962515115,
          0.905683192261185,
          0.905683192261185,
          0.932285368802902,
          0.9359129383313181,
          1
         ],
         "y": [
          0,
          0.0019723865877712033,
          0.04339250493096647,
          0.04339250493096647,
          0.05128205128205128,
          0.05128205128205128,
          0.07495069033530571,
          0.07495069033530571,
          0.07692307692307693,
          0.07692307692307693,
          0.11045364891518737,
          0.11045364891518737,
          0.13214990138067062,
          0.13214990138067062,
          0.20118343195266272,
          0.20118343195266272,
          0.20512820512820512,
          0.20512820512820512,
          0.23668639053254437,
          0.23668639053254437,
          0.2583826429980276,
          0.2583826429980276,
          0.26232741617357,
          0.26232741617357,
          0.27613412228796846,
          0.27613412228796846,
          0.3096646942800789,
          0.3096646942800789,
          0.34122287968441817,
          0.34122287968441817,
          0.34911242603550297,
          0.34911242603550297,
          0.358974358974359,
          0.358974358974359,
          0.36489151873767256,
          0.36489151873767256,
          0.3727810650887574,
          0.3727810650887574,
          0.3865877712031558,
          0.3865877712031558,
          0.388560157790927,
          0.388560157790927,
          0.40433925049309666,
          0.40433925049309666,
          0.40828402366863903,
          0.40828402366863903,
          0.41222879684418146,
          0.41222879684418146,
          0.4240631163708087,
          0.4240631163708087,
          0.4358974358974359,
          0.4358974358974359,
          0.4437869822485207,
          0.4437869822485207,
          0.4457593688362919,
          0.4457593688362919,
          0.4477317554240631,
          0.4477317554240631,
          0.4516765285996055,
          0.4516765285996055,
          0.45956607495069035,
          0.45956607495069035,
          0.47337278106508873,
          0.47337278106508873,
          0.47928994082840237,
          0.47928994082840237,
          0.4812623274161736,
          0.4812623274161736,
          0.4911242603550296,
          0.4911242603550296,
          0.49506903353057197,
          0.49506903353057197,
          0.4970414201183432,
          0.4970414201183432,
          0.5009861932938856,
          0.5009861932938856,
          0.5029585798816568,
          0.5029585798816568,
          0.504930966469428,
          0.504930966469428,
          0.5069033530571992,
          0.5069033530571992,
          0.5088757396449705,
          0.5088757396449705,
          0.5128205128205128,
          0.5128205128205128,
          0.5187376725838264,
          0.5187376725838264,
          0.5226824457593688,
          0.5226824457593688,
          0.5325443786982249,
          0.5325443786982249,
          0.5502958579881657,
          0.5502958579881657,
          0.5581854043392505,
          0.5581854043392505,
          0.5700197238658777,
          0.5700197238658777,
          0.5739644970414202,
          0.5739644970414202,
          0.5857988165680473,
          0.5857988165680473,
          0.5877712031558185,
          0.5877712031558185,
          0.5996055226824457,
          0.5996055226824457,
          0.6035502958579881,
          0.6035502958579881,
          0.6153846153846154,
          0.6153846153846154,
          0.6173570019723866,
          0.6173570019723866,
          0.621301775147929,
          0.621301775147929,
          0.6351084812623274,
          0.6351084812623274,
          0.6390532544378699,
          0.6390532544378699,
          0.6469428007889546,
          0.6469428007889546,
          0.650887573964497,
          0.650887573964497,
          0.6548323471400395,
          0.6548323471400395,
          0.6587771203155819,
          0.6587771203155819,
          0.6607495069033531,
          0.6607495069033531,
          0.6627218934911243,
          0.6627218934911243,
          0.6666666666666666,
          0.6666666666666666,
          0.6686390532544378,
          0.6686390532544378,
          0.6706114398422091,
          0.6706114398422091,
          0.6765285996055227,
          0.6765285996055227,
          0.6804733727810651,
          0.6804733727810651,
          0.6863905325443787,
          0.6863905325443787,
          0.6883629191321499,
          0.6883629191321499,
          0.6903353057199211,
          0.6903353057199211,
          0.6942800788954635,
          0.6942800788954635,
          0.6982248520710059,
          0.6982248520710059,
          0.7021696252465484,
          0.7021696252465484,
          0.7041420118343196,
          0.7041420118343196,
          0.7120315581854043,
          0.7120315581854043,
          0.7140039447731755,
          0.7140039447731755,
          0.717948717948718,
          0.717948717948718,
          0.7199211045364892,
          0.7199211045364892,
          0.7218934911242604,
          0.7218934911242604,
          0.7258382642998028,
          0.7258382642998028,
          0.727810650887574,
          0.727810650887574,
          0.7317554240631163,
          0.7317554240631163,
          0.7357001972386588,
          0.7357001972386588,
          0.7396449704142012,
          0.7396449704142012,
          0.7416173570019724,
          0.7416173570019724,
          0.7455621301775148,
          0.7455621301775148,
          0.747534516765286,
          0.747534516765286,
          0.7495069033530573,
          0.7495069033530573,
          0.757396449704142,
          0.757396449704142,
          0.7593688362919132,
          0.7593688362919132,
          0.7613412228796844,
          0.7613412228796844,
          0.7633136094674556,
          0.7633136094674556,
          0.7652859960552268,
          0.7652859960552268,
          0.7672583826429981,
          0.7672583826429981,
          0.7692307692307693,
          0.7692307692307693,
          0.7731755424063116,
          0.7731755424063116,
          0.777120315581854,
          0.777120315581854,
          0.7810650887573964,
          0.7810650887573964,
          0.7830374753451677,
          0.7830374753451677,
          0.7850098619329389,
          0.7850098619329389,
          0.7909270216962525,
          0.7909270216962525,
          0.7928994082840237,
          0.7928994082840237,
          0.7948717948717948,
          0.7948717948717948,
          0.7988165680473372,
          0.7988165680473372,
          0.8047337278106509,
          0.8047337278106509,
          0.8086785009861933,
          0.8086785009861933,
          0.8106508875739645,
          0.8106508875739645,
          0.8126232741617357,
          0.8126232741617357,
          0.814595660749507,
          0.814595660749507,
          0.8165680473372781,
          0.8165680473372781,
          0.8205128205128205,
          0.8205128205128205,
          0.8244575936883629,
          0.8244575936883629,
          0.8264299802761341,
          0.8264299802761341,
          0.8284023668639053,
          0.8284023668639053,
          0.834319526627219,
          0.834319526627219,
          0.8382642998027613,
          0.8382642998027613,
          0.8422090729783037,
          0.8422090729783037,
          0.8441814595660749,
          0.8441814595660749,
          0.8481262327416174,
          0.8481262327416174,
          0.8500986193293886,
          0.8500986193293886,
          0.854043392504931,
          0.854043392504931,
          0.8560157790927022,
          0.8560157790927022,
          0.8599605522682445,
          0.8599605522682445,
          0.863905325443787,
          0.863905325443787,
          0.8658777120315582,
          0.8658777120315582,
          0.8678500986193294,
          0.8678500986193294,
          0.8698224852071006,
          0.8698224852071006,
          0.8717948717948718,
          0.8717948717948718,
          0.873767258382643,
          0.873767258382643,
          0.8757396449704142,
          0.8757396449704142,
          0.8777120315581854,
          0.8777120315581854,
          0.8796844181459567,
          0.8796844181459567,
          0.8816568047337278,
          0.8816568047337278,
          0.883629191321499,
          0.883629191321499,
          0.8856015779092702,
          0.8856015779092702,
          0.8875739644970414,
          0.8875739644970414,
          0.8895463510848126,
          0.8895463510848126,
          0.8915187376725838,
          0.8915187376725838,
          0.893491124260355,
          0.893491124260355,
          0.8954635108481263,
          0.8954635108481263,
          0.8974358974358975,
          0.8974358974358975,
          0.8994082840236687,
          0.8994082840236687,
          0.9013806706114399,
          0.9013806706114399,
          0.9053254437869822,
          0.9053254437869822,
          0.9072978303747534,
          0.9072978303747534,
          0.9092702169625246,
          0.9092702169625246,
          0.9171597633136095,
          0.9171597633136095,
          0.9191321499013807,
          0.9191321499013807,
          0.9211045364891519,
          0.9211045364891519,
          0.9230769230769231,
          0.9230769230769231,
          0.9250493096646942,
          0.9250493096646942,
          0.9289940828402367,
          0.9289940828402367,
          0.9309664694280079,
          0.9309664694280079,
          0.9349112426035503,
          0.9349112426035503,
          0.9368836291913215,
          0.9368836291913215,
          0.9388560157790927,
          0.9388560157790927,
          0.9408284023668639,
          0.9408284023668639,
          0.9428007889546351,
          0.9428007889546351,
          0.9447731755424064,
          0.9447731755424064,
          0.9487179487179487,
          0.9487179487179487,
          0.9506903353057199,
          0.9506903353057199,
          0.9526627218934911,
          0.9526627218934911,
          0.9546351084812623,
          0.9546351084812623,
          0.9566074950690335,
          0.9566074950690335,
          0.9585798816568047,
          0.9585798816568047,
          0.960552268244576,
          0.960552268244576,
          0.9625246548323472,
          0.9625246548323472,
          0.9644970414201184,
          0.9644970414201184,
          0.9664694280078896,
          0.9664694280078896,
          0.9684418145956607,
          0.9684418145956607,
          0.9723865877712031,
          0.9723865877712031,
          0.9743589743589743,
          0.9743589743589743,
          0.9763313609467456,
          0.9763313609467456,
          0.9783037475345168,
          0.9783037475345168,
          0.980276134122288,
          0.980276134122288,
          0.9822485207100592,
          0.9822485207100592,
          0.9842209072978304,
          0.9842209072978304,
          0.9861932938856016,
          0.9861932938856016,
          0.9881656804733728,
          0.9881656804733728,
          0.9901380670611439,
          0.9901380670611439,
          0.9921104536489151,
          0.9921104536489151,
          0.9940828402366864,
          0.9940828402366864,
          0.9960552268244576,
          0.9960552268244576,
          0.9980276134122288,
          0.9980276134122288,
          1,
          1,
          1,
          1
         ]
        },
        {
         "mode": "lines",
         "name": "neutral (AUC = 0.86)",
         "type": "scatter",
         "x": [
          0,
          0,
          0,
          0.0012106537530266344,
          0.0012106537530266344,
          0.002421307506053269,
          0.002421307506053269,
          0.0036319612590799033,
          0.0036319612590799033,
          0.004842615012106538,
          0.004842615012106538,
          0.006053268765133172,
          0.006053268765133172,
          0.007263922518159807,
          0.007263922518159807,
          0.009685230024213076,
          0.009685230024213076,
          0.010895883777239709,
          0.010895883777239709,
          0.012106537530266344,
          0.012106537530266344,
          0.013317191283292978,
          0.013317191283292978,
          0.014527845036319613,
          0.014527845036319613,
          0.01694915254237288,
          0.01694915254237288,
          0.01937046004842615,
          0.01937046004842615,
          0.021791767554479417,
          0.021791767554479417,
          0.023002421307506054,
          0.023002421307506054,
          0.024213075060532687,
          0.024213075060532687,
          0.026634382566585957,
          0.026634382566585957,
          0.02784503631961259,
          0.02784503631961259,
          0.03268765133171913,
          0.03268765133171913,
          0.035108958837772396,
          0.035108958837772396,
          0.03753026634382567,
          0.03753026634382567,
          0.0387409200968523,
          0.0387409200968523,
          0.039951573849878935,
          0.039951573849878935,
          0.04116222760290557,
          0.04116222760290557,
          0.0423728813559322,
          0.0423728813559322,
          0.043583535108958835,
          0.043583535108958835,
          0.044794188861985475,
          0.044794188861985475,
          0.04600484261501211,
          0.04600484261501211,
          0.04721549636803874,
          0.04721549636803874,
          0.048426150121065374,
          0.048426150121065374,
          0.04963680387409201,
          0.04963680387409201,
          0.05084745762711865,
          0.05084745762711865,
          0.05205811138014528,
          0.05205811138014528,
          0.05447941888619855,
          0.05447941888619855,
          0.05690072639225181,
          0.05690072639225181,
          0.05811138014527845,
          0.05811138014527845,
          0.059322033898305086,
          0.059322033898305086,
          0.06053268765133172,
          0.06053268765133172,
          0.06174334140435835,
          0.06174334140435835,
          0.06295399515738499,
          0.06295399515738499,
          0.06416464891041163,
          0.06416464891041163,
          0.06779661016949153,
          0.06779661016949153,
          0.06900726392251816,
          0.06900726392251816,
          0.07021791767554479,
          0.07021791767554479,
          0.07506053268765134,
          0.07506053268765134,
          0.07627118644067797,
          0.07627118644067797,
          0.07869249394673124,
          0.07869249394673124,
          0.0811138014527845,
          0.0811138014527845,
          0.08232445520581114,
          0.08232445520581114,
          0.08958837772397095,
          0.08958837772397095,
          0.09200968523002422,
          0.09200968523002422,
          0.09322033898305085,
          0.09322033898305085,
          0.09443099273607748,
          0.09443099273607748,
          0.09685230024213075,
          0.09685230024213075,
          0.09806295399515738,
          0.09806295399515738,
          0.09927360774818401,
          0.09927360774818401,
          0.10290556900726393,
          0.10290556900726393,
          0.10653753026634383,
          0.10653753026634383,
          0.11016949152542373,
          0.11016949152542373,
          0.11138014527845036,
          0.11138014527845036,
          0.11259079903147699,
          0.11259079903147699,
          0.11380145278450363,
          0.11380145278450363,
          0.11743341404358354,
          0.11743341404358354,
          0.11864406779661017,
          0.11864406779661017,
          0.12106537530266344,
          0.12106537530266344,
          0.1234866828087167,
          0.1234866828087167,
          0.12469733656174334,
          0.12469733656174334,
          0.12590799031476999,
          0.12590799031476999,
          0.1271186440677966,
          0.1271186440677966,
          0.12832929782082325,
          0.12832929782082325,
          0.13075060532687652,
          0.13075060532687652,
          0.13317191283292978,
          0.13317191283292978,
          0.1368038740920097,
          0.1368038740920097,
          0.13801452784503632,
          0.13801452784503632,
          0.13922518159806296,
          0.13922518159806296,
          0.14043583535108958,
          0.14043583535108958,
          0.14164648910411623,
          0.14164648910411623,
          0.14285714285714285,
          0.14285714285714285,
          0.14527845036319612,
          0.14527845036319612,
          0.14648910411622276,
          0.14648910411622276,
          0.14769975786924938,
          0.14769975786924938,
          0.1513317191283293,
          0.1513317191283293,
          0.15375302663438256,
          0.15375302663438256,
          0.15617433414043583,
          0.15617433414043583,
          0.15738498789346247,
          0.15738498789346247,
          0.1585956416464891,
          0.1585956416464891,
          0.16585956416464892,
          0.16585956416464892,
          0.16707021791767554,
          0.16707021791767554,
          0.1694915254237288,
          0.1694915254237288,
          0.17070217917675545,
          0.17070217917675545,
          0.17191283292978207,
          0.17191283292978207,
          0.17312348668280872,
          0.17312348668280872,
          0.17433414043583534,
          0.17433414043583534,
          0.17554479418886199,
          0.17554479418886199,
          0.17796610169491525,
          0.17796610169491525,
          0.18038740920096852,
          0.18038740920096852,
          0.18159806295399517,
          0.18159806295399517,
          0.18523002421307505,
          0.18523002421307505,
          0.18886198547215496,
          0.18886198547215496,
          0.19128329297820823,
          0.19128329297820823,
          0.19249394673123488,
          0.19249394673123488,
          0.2046004842615012,
          0.2046004842615012,
          0.20581113801452786,
          0.20581113801452786,
          0.20823244552058112,
          0.20823244552058112,
          0.20944309927360774,
          0.20944309927360774,
          0.2106537530266344,
          0.2106537530266344,
          0.211864406779661,
          0.211864406779661,
          0.2215496368038741,
          0.2215496368038741,
          0.22397094430992737,
          0.22397094430992737,
          0.2288135593220339,
          0.2288135593220339,
          0.2324455205811138,
          0.2324455205811138,
          0.23486682808716708,
          0.23486682808716708,
          0.2360774818401937,
          0.2360774818401937,
          0.23728813559322035,
          0.23728813559322035,
          0.24092009685230023,
          0.24092009685230023,
          0.24455205811138014,
          0.24455205811138014,
          0.25181598062953997,
          0.25181598062953997,
          0.25302663438256656,
          0.25302663438256656,
          0.2542372881355932,
          0.2542372881355932,
          0.25544794188861986,
          0.25544794188861986,
          0.2566585956416465,
          0.2566585956416465,
          0.26634382566585957,
          0.26634382566585957,
          0.27239709443099275,
          0.27239709443099275,
          0.274818401937046,
          0.274818401937046,
          0.2784503631961259,
          0.2784503631961259,
          0.2796610169491525,
          0.2796610169491525,
          0.28692493946731235,
          0.28692493946731235,
          0.288135593220339,
          0.288135593220339,
          0.2917675544794189,
          0.2917675544794189,
          0.2990314769975787,
          0.2990314769975787,
          0.3062953995157385,
          0.3062953995157385,
          0.30871670702179177,
          0.30871670702179177,
          0.3099273607748184,
          0.3099273607748184,
          0.31113801452784506,
          0.31113801452784506,
          0.31234866828087166,
          0.31234866828087166,
          0.32324455205811137,
          0.32324455205811137,
          0.324455205811138,
          0.324455205811138,
          0.3268765133171913,
          0.3268765133171913,
          0.3280871670702179,
          0.3280871670702179,
          0.3341404358353511,
          0.3341404358353511,
          0.3353510895883777,
          0.3353510895883777,
          0.33777239709443097,
          0.33777239709443097,
          0.34382566585956414,
          0.34382566585956414,
          0.3486682808716707,
          0.3486682808716707,
          0.3498789346246973,
          0.3498789346246973,
          0.3559322033898305,
          0.3559322033898305,
          0.3583535108958838,
          0.3583535108958838,
          0.3595641646489104,
          0.3595641646489104,
          0.3644067796610169,
          0.3644067796610169,
          0.3668280871670702,
          0.3668280871670702,
          0.3692493946731235,
          0.3692493946731235,
          0.3704600484261501,
          0.3704600484261501,
          0.3765133171912833,
          0.3765133171912833,
          0.38256658595641646,
          0.38256658595641646,
          0.38498789346246975,
          0.38498789346246975,
          0.38861985472154964,
          0.38861985472154964,
          0.3898305084745763,
          0.3898305084745763,
          0.39951573849878935,
          0.39951573849878935,
          0.40314769975786924,
          0.40314769975786924,
          0.4067796610169492,
          0.4067796610169492,
          0.41646489104116224,
          0.41646489104116224,
          0.42009685230024213,
          0.42009685230024213,
          0.4213075060532688,
          0.4213075060532688,
          0.423728813559322,
          0.423728813559322,
          0.4297820823244552,
          0.4297820823244552,
          0.43099273607748184,
          0.43099273607748184,
          0.4430992736077482,
          0.4430992736077482,
          0.4443099273607748,
          0.4443099273607748,
          0.4515738498789346,
          0.4515738498789346,
          0.4539951573849879,
          0.4539951573849879,
          0.45641646489104115,
          0.45641646489104115,
          0.47336561743341404,
          0.47336561743341404,
          0.4745762711864407,
          0.4745762711864407,
          0.4794188861985472,
          0.4794188861985472,
          0.48062953995157387,
          0.48062953995157387,
          0.4854721549636804,
          0.4854721549636804,
          0.48668280871670705,
          0.48668280871670705,
          0.49878934624697335,
          0.49878934624697335,
          0.5024213075060533,
          0.5024213075060533,
          0.5217917675544794,
          0.5217917675544794,
          0.5230024213075061,
          0.5230024213075061,
          0.5375302663438256,
          0.5375302663438256,
          0.5435835351089588,
          0.5435835351089588,
          0.5544794188861986,
          0.5544794188861986,
          0.5738498789346247,
          0.5738498789346247,
          0.5932203389830508,
          0.5932203389830508,
          0.6138014527845036,
          0.6138014527845036,
          0.6283292978208233,
          0.6283292978208233,
          0.6319612590799032,
          0.6319612590799032,
          0.6368038740920097,
          0.6368038740920097,
          0.6440677966101694,
          0.6440677966101694,
          0.6791767554479419,
          0.6791767554479419,
          0.715496368038741,
          0.715496368038741,
          0.7530266343825666,
          0.7530266343825666,
          0.7651331719128329,
          0.7651331719128329,
          0.7663438256658596,
          0.7663438256658596,
          0.784503631961259,
          0.784503631961259,
          0.8498789346246973,
          0.8498789346246973,
          0.8995157384987893,
          0.8995157384987893,
          0.9552058111380145,
          0.9552058111380145,
          0.9745762711864406,
          0.9782082324455206,
          1
         ],
         "y": [
          0,
          0.001968503937007874,
          0.04133858267716536,
          0.04133858267716536,
          0.07086614173228346,
          0.07086614173228346,
          0.08464566929133858,
          0.08464566929133858,
          0.08661417322834646,
          0.08661417322834646,
          0.09448818897637795,
          0.09448818897637795,
          0.1279527559055118,
          0.1279527559055118,
          0.1515748031496063,
          0.1515748031496063,
          0.18110236220472442,
          0.18110236220472442,
          0.19291338582677164,
          0.19291338582677164,
          0.20275590551181102,
          0.20275590551181102,
          0.24015748031496062,
          0.24015748031496062,
          0.25,
          0.25,
          0.2578740157480315,
          0.2578740157480315,
          0.2618110236220472,
          0.2618110236220472,
          0.265748031496063,
          0.265748031496063,
          0.26968503937007876,
          0.26968503937007876,
          0.2795275590551181,
          0.2795275590551181,
          0.2874015748031496,
          0.2874015748031496,
          0.2933070866141732,
          0.2933070866141732,
          0.2952755905511811,
          0.2952755905511811,
          0.3031496062992126,
          0.3031496062992126,
          0.31299212598425197,
          0.31299212598425197,
          0.31496062992125984,
          0.31496062992125984,
          0.32086614173228345,
          0.32086614173228345,
          0.328740157480315,
          0.328740157480315,
          0.3425196850393701,
          0.3425196850393701,
          0.3464566929133858,
          0.3464566929133858,
          0.3562992125984252,
          0.3562992125984252,
          0.36023622047244097,
          0.36023622047244097,
          0.38779527559055116,
          0.38779527559055116,
          0.39173228346456695,
          0.39173228346456695,
          0.3956692913385827,
          0.3956692913385827,
          0.40551181102362205,
          0.40551181102362205,
          0.4251968503937008,
          0.4251968503937008,
          0.4271653543307087,
          0.4271653543307087,
          0.4389763779527559,
          0.4389763779527559,
          0.44881889763779526,
          0.44881889763779526,
          0.45866141732283466,
          0.45866141732283466,
          0.4625984251968504,
          0.4625984251968504,
          0.46653543307086615,
          0.46653543307086615,
          0.4744094488188976,
          0.4744094488188976,
          0.47834645669291337,
          0.47834645669291337,
          0.4822834645669291,
          0.4822834645669291,
          0.484251968503937,
          0.484251968503937,
          0.4862204724409449,
          0.4862204724409449,
          0.4881889763779528,
          0.4881889763779528,
          0.4940944881889764,
          0.4940944881889764,
          0.49803149606299213,
          0.49803149606299213,
          0.5,
          0.5,
          0.5078740157480315,
          0.5078740157480315,
          0.5118110236220472,
          0.5118110236220472,
          0.5177165354330708,
          0.5177165354330708,
          0.5196850393700787,
          0.5196850393700787,
          0.5354330708661418,
          0.5354330708661418,
          0.5393700787401575,
          0.5393700787401575,
          0.5413385826771654,
          0.5413385826771654,
          0.547244094488189,
          0.547244094488189,
          0.5511811023622047,
          0.5511811023622047,
          0.5531496062992126,
          0.5531496062992126,
          0.5551181102362205,
          0.5551181102362205,
          0.5570866141732284,
          0.5570866141732284,
          0.5590551181102362,
          0.5590551181102362,
          0.5708661417322834,
          0.5708661417322834,
          0.5787401574803149,
          0.5787401574803149,
          0.5826771653543307,
          0.5826771653543307,
          0.5846456692913385,
          0.5846456692913385,
          0.5885826771653543,
          0.5885826771653543,
          0.5964566929133859,
          0.5964566929133859,
          0.6003937007874016,
          0.6003937007874016,
          0.6181102362204725,
          0.6181102362204725,
          0.6240157480314961,
          0.6240157480314961,
          0.6279527559055118,
          0.6279527559055118,
          0.639763779527559,
          0.639763779527559,
          0.6476377952755905,
          0.6476377952755905,
          0.6535433070866141,
          0.6535433070866141,
          0.65748031496063,
          0.65748031496063,
          0.6594488188976378,
          0.6594488188976378,
          0.6673228346456693,
          0.6673228346456693,
          0.6712598425196851,
          0.6712598425196851,
          0.6771653543307087,
          0.6771653543307087,
          0.6791338582677166,
          0.6791338582677166,
          0.6811023622047244,
          0.6811023622047244,
          0.687007874015748,
          0.687007874015748,
          0.6929133858267716,
          0.6929133858267716,
          0.6948818897637795,
          0.6948818897637795,
          0.6968503937007874,
          0.6968503937007874,
          0.7007874015748031,
          0.7007874015748031,
          0.7047244094488189,
          0.7047244094488189,
          0.7066929133858267,
          0.7066929133858267,
          0.7086614173228346,
          0.7086614173228346,
          0.7125984251968503,
          0.7125984251968503,
          0.7145669291338582,
          0.7145669291338582,
          0.7204724409448819,
          0.7204724409448819,
          0.7224409448818898,
          0.7224409448818898,
          0.7244094488188977,
          0.7244094488188977,
          0.7263779527559056,
          0.7263779527559056,
          0.7303149606299213,
          0.7303149606299213,
          0.7381889763779528,
          0.7381889763779528,
          0.7460629921259843,
          0.7460629921259843,
          0.75,
          0.75,
          0.7539370078740157,
          0.7539370078740157,
          0.7559055118110236,
          0.7559055118110236,
          0.7578740157480315,
          0.7578740157480315,
          0.7618110236220472,
          0.7618110236220472,
          0.765748031496063,
          0.765748031496063,
          0.7677165354330708,
          0.7677165354330708,
          0.7716535433070866,
          0.7716535433070866,
          0.7775590551181102,
          0.7775590551181102,
          0.7834645669291339,
          0.7834645669291339,
          0.7854330708661418,
          0.7854330708661418,
          0.7874015748031497,
          0.7874015748031497,
          0.7893700787401575,
          0.7893700787401575,
          0.7913385826771654,
          0.7913385826771654,
          0.7933070866141733,
          0.7933070866141733,
          0.797244094488189,
          0.797244094488189,
          0.7992125984251969,
          0.7992125984251969,
          0.8011811023622047,
          0.8011811023622047,
          0.8051181102362205,
          0.8051181102362205,
          0.8070866141732284,
          0.8070866141732284,
          0.8090551181102362,
          0.8090551181102362,
          0.8110236220472441,
          0.8110236220472441,
          0.812992125984252,
          0.812992125984252,
          0.8149606299212598,
          0.8149606299212598,
          0.8188976377952756,
          0.8188976377952756,
          0.8208661417322834,
          0.8208661417322834,
          0.8228346456692913,
          0.8228346456692913,
          0.8267716535433071,
          0.8267716535433071,
          0.8346456692913385,
          0.8346456692913385,
          0.8366141732283464,
          0.8366141732283464,
          0.8385826771653543,
          0.8385826771653543,
          0.8405511811023622,
          0.8405511811023622,
          0.84251968503937,
          0.84251968503937,
          0.8464566929133859,
          0.8464566929133859,
          0.8543307086614174,
          0.8543307086614174,
          0.8562992125984252,
          0.8562992125984252,
          0.860236220472441,
          0.860236220472441,
          0.8622047244094488,
          0.8622047244094488,
          0.8641732283464567,
          0.8641732283464567,
          0.8661417322834646,
          0.8661417322834646,
          0.8681102362204725,
          0.8681102362204725,
          0.8700787401574803,
          0.8700787401574803,
          0.8720472440944882,
          0.8720472440944882,
          0.8740157480314961,
          0.8740157480314961,
          0.8759842519685039,
          0.8759842519685039,
          0.8779527559055118,
          0.8779527559055118,
          0.8799212598425197,
          0.8799212598425197,
          0.8818897637795275,
          0.8818897637795275,
          0.8838582677165354,
          0.8838582677165354,
          0.8877952755905512,
          0.8877952755905512,
          0.889763779527559,
          0.889763779527559,
          0.8917322834645669,
          0.8917322834645669,
          0.8937007874015748,
          0.8937007874015748,
          0.8956692913385826,
          0.8956692913385826,
          0.8976377952755905,
          0.8976377952755905,
          0.8996062992125984,
          0.8996062992125984,
          0.9015748031496063,
          0.9015748031496063,
          0.905511811023622,
          0.905511811023622,
          0.90748031496063,
          0.90748031496063,
          0.9094488188976378,
          0.9094488188976378,
          0.9114173228346457,
          0.9114173228346457,
          0.9153543307086615,
          0.9153543307086615,
          0.9192913385826772,
          0.9192913385826772,
          0.9212598425196851,
          0.9212598425196851,
          0.9232283464566929,
          0.9232283464566929,
          0.9251968503937008,
          0.9251968503937008,
          0.9271653543307087,
          0.9271653543307087,
          0.9291338582677166,
          0.9291338582677166,
          0.9311023622047244,
          0.9311023622047244,
          0.937007874015748,
          0.937007874015748,
          0.9389763779527559,
          0.9389763779527559,
          0.9409448818897638,
          0.9409448818897638,
          0.9429133858267716,
          0.9429133858267716,
          0.9448818897637795,
          0.9448818897637795,
          0.9468503937007874,
          0.9468503937007874,
          0.9488188976377953,
          0.9488188976377953,
          0.9507874015748031,
          0.9507874015748031,
          0.952755905511811,
          0.952755905511811,
          0.9547244094488189,
          0.9547244094488189,
          0.9566929133858267,
          0.9566929133858267,
          0.9586614173228346,
          0.9586614173228346,
          0.9606299212598425,
          0.9606299212598425,
          0.9625984251968503,
          0.9625984251968503,
          0.9645669291338582,
          0.9645669291338582,
          0.9665354330708661,
          0.9665354330708661,
          0.968503937007874,
          0.968503937007874,
          0.9704724409448819,
          0.9704724409448819,
          0.9724409448818898,
          0.9724409448818898,
          0.9744094488188977,
          0.9744094488188977,
          0.9763779527559056,
          0.9763779527559056,
          0.9783464566929134,
          0.9783464566929134,
          0.9803149606299213,
          0.9803149606299213,
          0.9822834645669292,
          0.9822834645669292,
          0.984251968503937,
          0.984251968503937,
          0.9862204724409449,
          0.9862204724409449,
          0.9881889763779528,
          0.9881889763779528,
          0.9901574803149606,
          0.9901574803149606,
          0.9921259842519685,
          0.9921259842519685,
          0.9940944881889764,
          0.9940944881889764,
          0.9960629921259843,
          0.9960629921259843,
          0.9980314960629921,
          0.9980314960629921,
          1,
          1,
          1,
          1
         ]
        },
        {
         "line": {
          "dash": "dash"
         },
         "mode": "lines",
         "name": "random",
         "type": "scatter",
         "x": [
          0,
          1
         ],
         "y": [
          0,
          1
         ]
        }
       ],
       "layout": {
        "autosize": false,
        "height": 800,
        "template": {
         "data": {
          "bar": [
           {
            "error_x": {
             "color": "#2a3f5f"
            },
            "error_y": {
             "color": "#2a3f5f"
            },
            "marker": {
             "line": {
              "color": "white",
              "width": 0.5
             },
             "pattern": {
              "fillmode": "overlay",
              "size": 10,
              "solidity": 0.2
             }
            },
            "type": "bar"
           }
          ],
          "barpolar": [
           {
            "marker": {
             "line": {
              "color": "white",
              "width": 0.5
             },
             "pattern": {
              "fillmode": "overlay",
              "size": 10,
              "solidity": 0.2
             }
            },
            "type": "barpolar"
           }
          ],
          "carpet": [
           {
            "aaxis": {
             "endlinecolor": "#2a3f5f",
             "gridcolor": "#C8D4E3",
             "linecolor": "#C8D4E3",
             "minorgridcolor": "#C8D4E3",
             "startlinecolor": "#2a3f5f"
            },
            "baxis": {
             "endlinecolor": "#2a3f5f",
             "gridcolor": "#C8D4E3",
             "linecolor": "#C8D4E3",
             "minorgridcolor": "#C8D4E3",
             "startlinecolor": "#2a3f5f"
            },
            "type": "carpet"
           }
          ],
          "choropleth": [
           {
            "colorbar": {
             "outlinewidth": 0,
             "ticks": ""
            },
            "type": "choropleth"
           }
          ],
          "contour": [
           {
            "colorbar": {
             "outlinewidth": 0,
             "ticks": ""
            },
            "colorscale": [
             [
              0,
              "#0d0887"
             ],
             [
              0.1111111111111111,
              "#46039f"
             ],
             [
              0.2222222222222222,
              "#7201a8"
             ],
             [
              0.3333333333333333,
              "#9c179e"
             ],
             [
              0.4444444444444444,
              "#bd3786"
             ],
             [
              0.5555555555555556,
              "#d8576b"
             ],
             [
              0.6666666666666666,
              "#ed7953"
             ],
             [
              0.7777777777777778,
              "#fb9f3a"
             ],
             [
              0.8888888888888888,
              "#fdca26"
             ],
             [
              1,
              "#f0f921"
             ]
            ],
            "type": "contour"
           }
          ],
          "contourcarpet": [
           {
            "colorbar": {
             "outlinewidth": 0,
             "ticks": ""
            },
            "type": "contourcarpet"
           }
          ],
          "heatmap": [
           {
            "colorbar": {
             "outlinewidth": 0,
             "ticks": ""
            },
            "colorscale": [
             [
              0,
              "#0d0887"
             ],
             [
              0.1111111111111111,
              "#46039f"
             ],
             [
              0.2222222222222222,
              "#7201a8"
             ],
             [
              0.3333333333333333,
              "#9c179e"
             ],
             [
              0.4444444444444444,
              "#bd3786"
             ],
             [
              0.5555555555555556,
              "#d8576b"
             ],
             [
              0.6666666666666666,
              "#ed7953"
             ],
             [
              0.7777777777777778,
              "#fb9f3a"
             ],
             [
              0.8888888888888888,
              "#fdca26"
             ],
             [
              1,
              "#f0f921"
             ]
            ],
            "type": "heatmap"
           }
          ],
          "heatmapgl": [
           {
            "colorbar": {
             "outlinewidth": 0,
             "ticks": ""
            },
            "colorscale": [
             [
              0,
              "#0d0887"
             ],
             [
              0.1111111111111111,
              "#46039f"
             ],
             [
              0.2222222222222222,
              "#7201a8"
             ],
             [
              0.3333333333333333,
              "#9c179e"
             ],
             [
              0.4444444444444444,
              "#bd3786"
             ],
             [
              0.5555555555555556,
              "#d8576b"
             ],
             [
              0.6666666666666666,
              "#ed7953"
             ],
             [
              0.7777777777777778,
              "#fb9f3a"
             ],
             [
              0.8888888888888888,
              "#fdca26"
             ],
             [
              1,
              "#f0f921"
             ]
            ],
            "type": "heatmapgl"
           }
          ],
          "histogram": [
           {
            "marker": {
             "pattern": {
              "fillmode": "overlay",
              "size": 10,
              "solidity": 0.2
             }
            },
            "type": "histogram"
           }
          ],
          "histogram2d": [
           {
            "colorbar": {
             "outlinewidth": 0,
             "ticks": ""
            },
            "colorscale": [
             [
              0,
              "#0d0887"
             ],
             [
              0.1111111111111111,
              "#46039f"
             ],
             [
              0.2222222222222222,
              "#7201a8"
             ],
             [
              0.3333333333333333,
              "#9c179e"
             ],
             [
              0.4444444444444444,
              "#bd3786"
             ],
             [
              0.5555555555555556,
              "#d8576b"
             ],
             [
              0.6666666666666666,
              "#ed7953"
             ],
             [
              0.7777777777777778,
              "#fb9f3a"
             ],
             [
              0.8888888888888888,
              "#fdca26"
             ],
             [
              1,
              "#f0f921"
             ]
            ],
            "type": "histogram2d"
           }
          ],
          "histogram2dcontour": [
           {
            "colorbar": {
             "outlinewidth": 0,
             "ticks": ""
            },
            "colorscale": [
             [
              0,
              "#0d0887"
             ],
             [
              0.1111111111111111,
              "#46039f"
             ],
             [
              0.2222222222222222,
              "#7201a8"
             ],
             [
              0.3333333333333333,
              "#9c179e"
             ],
             [
              0.4444444444444444,
              "#bd3786"
             ],
             [
              0.5555555555555556,
              "#d8576b"
             ],
             [
              0.6666666666666666,
              "#ed7953"
             ],
             [
              0.7777777777777778,
              "#fb9f3a"
             ],
             [
              0.8888888888888888,
              "#fdca26"
             ],
             [
              1,
              "#f0f921"
             ]
            ],
            "type": "histogram2dcontour"
           }
          ],
          "mesh3d": [
           {
            "colorbar": {
             "outlinewidth": 0,
             "ticks": ""
            },
            "type": "mesh3d"
           }
          ],
          "parcoords": [
           {
            "line": {
             "colorbar": {
              "outlinewidth": 0,
              "ticks": ""
             }
            },
            "type": "parcoords"
           }
          ],
          "pie": [
           {
            "automargin": true,
            "type": "pie"
           }
          ],
          "scatter": [
           {
            "fillpattern": {
             "fillmode": "overlay",
             "size": 10,
             "solidity": 0.2
            },
            "type": "scatter"
           }
          ],
          "scatter3d": [
           {
            "line": {
             "colorbar": {
              "outlinewidth": 0,
              "ticks": ""
             }
            },
            "marker": {
             "colorbar": {
              "outlinewidth": 0,
              "ticks": ""
             }
            },
            "type": "scatter3d"
           }
          ],
          "scattercarpet": [
           {
            "marker": {
             "colorbar": {
              "outlinewidth": 0,
              "ticks": ""
             }
            },
            "type": "scattercarpet"
           }
          ],
          "scattergeo": [
           {
            "marker": {
             "colorbar": {
              "outlinewidth": 0,
              "ticks": ""
             }
            },
            "type": "scattergeo"
           }
          ],
          "scattergl": [
           {
            "marker": {
             "colorbar": {
              "outlinewidth": 0,
              "ticks": ""
             }
            },
            "type": "scattergl"
           }
          ],
          "scattermapbox": [
           {
            "marker": {
             "colorbar": {
              "outlinewidth": 0,
              "ticks": ""
             }
            },
            "type": "scattermapbox"
           }
          ],
          "scatterpolar": [
           {
            "marker": {
             "colorbar": {
              "outlinewidth": 0,
              "ticks": ""
             }
            },
            "type": "scatterpolar"
           }
          ],
          "scatterpolargl": [
           {
            "marker": {
             "colorbar": {
              "outlinewidth": 0,
              "ticks": ""
             }
            },
            "type": "scatterpolargl"
           }
          ],
          "scatterternary": [
           {
            "marker": {
             "colorbar": {
              "outlinewidth": 0,
              "ticks": ""
             }
            },
            "type": "scatterternary"
           }
          ],
          "surface": [
           {
            "colorbar": {
             "outlinewidth": 0,
             "ticks": ""
            },
            "colorscale": [
             [
              0,
              "#0d0887"
             ],
             [
              0.1111111111111111,
              "#46039f"
             ],
             [
              0.2222222222222222,
              "#7201a8"
             ],
             [
              0.3333333333333333,
              "#9c179e"
             ],
             [
              0.4444444444444444,
              "#bd3786"
             ],
             [
              0.5555555555555556,
              "#d8576b"
             ],
             [
              0.6666666666666666,
              "#ed7953"
             ],
             [
              0.7777777777777778,
              "#fb9f3a"
             ],
             [
              0.8888888888888888,
              "#fdca26"
             ],
             [
              1,
              "#f0f921"
             ]
            ],
            "type": "surface"
           }
          ],
          "table": [
           {
            "cells": {
             "fill": {
              "color": "#EBF0F8"
             },
             "line": {
              "color": "white"
             }
            },
            "header": {
             "fill": {
              "color": "#C8D4E3"
             },
             "line": {
              "color": "white"
             }
            },
            "type": "table"
           }
          ]
         },
         "layout": {
          "annotationdefaults": {
           "arrowcolor": "#2a3f5f",
           "arrowhead": 0,
           "arrowwidth": 1
          },
          "autotypenumbers": "strict",
          "coloraxis": {
           "colorbar": {
            "outlinewidth": 0,
            "ticks": ""
           }
          },
          "colorscale": {
           "diverging": [
            [
             0,
             "#8e0152"
            ],
            [
             0.1,
             "#c51b7d"
            ],
            [
             0.2,
             "#de77ae"
            ],
            [
             0.3,
             "#f1b6da"
            ],
            [
             0.4,
             "#fde0ef"
            ],
            [
             0.5,
             "#f7f7f7"
            ],
            [
             0.6,
             "#e6f5d0"
            ],
            [
             0.7,
             "#b8e186"
            ],
            [
             0.8,
             "#7fbc41"
            ],
            [
             0.9,
             "#4d9221"
            ],
            [
             1,
             "#276419"
            ]
           ],
           "sequential": [
            [
             0,
             "#0d0887"
            ],
            [
             0.1111111111111111,
             "#46039f"
            ],
            [
             0.2222222222222222,
             "#7201a8"
            ],
            [
             0.3333333333333333,
             "#9c179e"
            ],
            [
             0.4444444444444444,
             "#bd3786"
            ],
            [
             0.5555555555555556,
             "#d8576b"
            ],
            [
             0.6666666666666666,
             "#ed7953"
            ],
            [
             0.7777777777777778,
             "#fb9f3a"
            ],
            [
             0.8888888888888888,
             "#fdca26"
            ],
            [
             1,
             "#f0f921"
            ]
           ],
           "sequentialminus": [
            [
             0,
             "#0d0887"
            ],
            [
             0.1111111111111111,
             "#46039f"
            ],
            [
             0.2222222222222222,
             "#7201a8"
            ],
            [
             0.3333333333333333,
             "#9c179e"
            ],
            [
             0.4444444444444444,
             "#bd3786"
            ],
            [
             0.5555555555555556,
             "#d8576b"
            ],
            [
             0.6666666666666666,
             "#ed7953"
            ],
            [
             0.7777777777777778,
             "#fb9f3a"
            ],
            [
             0.8888888888888888,
             "#fdca26"
            ],
            [
             1,
             "#f0f921"
            ]
           ]
          },
          "colorway": [
           "#636efa",
           "#EF553B",
           "#00cc96",
           "#ab63fa",
           "#FFA15A",
           "#19d3f3",
           "#FF6692",
           "#B6E880",
           "#FF97FF",
           "#FECB52"
          ],
          "font": {
           "color": "#2a3f5f"
          },
          "geo": {
           "bgcolor": "white",
           "lakecolor": "white",
           "landcolor": "white",
           "showlakes": true,
           "showland": true,
           "subunitcolor": "#C8D4E3"
          },
          "hoverlabel": {
           "align": "left"
          },
          "hovermode": "closest",
          "mapbox": {
           "style": "light"
          },
          "paper_bgcolor": "white",
          "plot_bgcolor": "white",
          "polar": {
           "angularaxis": {
            "gridcolor": "#EBF0F8",
            "linecolor": "#EBF0F8",
            "ticks": ""
           },
           "bgcolor": "white",
           "radialaxis": {
            "gridcolor": "#EBF0F8",
            "linecolor": "#EBF0F8",
            "ticks": ""
           }
          },
          "scene": {
           "xaxis": {
            "backgroundcolor": "white",
            "gridcolor": "#DFE8F3",
            "gridwidth": 2,
            "linecolor": "#EBF0F8",
            "showbackground": true,
            "ticks": "",
            "zerolinecolor": "#EBF0F8"
           },
           "yaxis": {
            "backgroundcolor": "white",
            "gridcolor": "#DFE8F3",
            "gridwidth": 2,
            "linecolor": "#EBF0F8",
            "showbackground": true,
            "ticks": "",
            "zerolinecolor": "#EBF0F8"
           },
           "zaxis": {
            "backgroundcolor": "white",
            "gridcolor": "#DFE8F3",
            "gridwidth": 2,
            "linecolor": "#EBF0F8",
            "showbackground": true,
            "ticks": "",
            "zerolinecolor": "#EBF0F8"
           }
          },
          "shapedefaults": {
           "line": {
            "color": "#2a3f5f"
           }
          },
          "ternary": {
           "aaxis": {
            "gridcolor": "#DFE8F3",
            "linecolor": "#A2B1C6",
            "ticks": ""
           },
           "baxis": {
            "gridcolor": "#DFE8F3",
            "linecolor": "#A2B1C6",
            "ticks": ""
           },
           "bgcolor": "white",
           "caxis": {
            "gridcolor": "#DFE8F3",
            "linecolor": "#A2B1C6",
            "ticks": ""
           }
          },
          "title": {
           "x": 0.05
          },
          "xaxis": {
           "automargin": true,
           "gridcolor": "#EBF0F8",
           "linecolor": "#EBF0F8",
           "ticks": "",
           "title": {
            "standoff": 15
           },
           "zerolinecolor": "#EBF0F8",
           "zerolinewidth": 2
          },
          "yaxis": {
           "automargin": true,
           "gridcolor": "#EBF0F8",
           "linecolor": "#EBF0F8",
           "ticks": "",
           "title": {
            "standoff": 15
           },
           "zerolinecolor": "#EBF0F8",
           "zerolinewidth": 2
          }
         }
        },
        "title": {
         "text": "Emotions ROC (n = 1334)"
        },
        "width": 900,
        "xaxis": {
         "title": {
          "text": "False Positive Rate"
         }
        },
        "yaxis": {
         "title": {
          "text": "True Positive Rate"
         }
        }
       }
      }
     },
     "metadata": {},
     "output_type": "display_data"
    }
   ],
   "source": [
    "# Compute ROC curve and AUC for each class\n",
    "fpr = dict()\n",
    "tpr = dict()\n",
    "roc_auc = dict()\n",
    "\n",
    "for i in range(3):\n",
    "    fpr[i], tpr[i], _ = roc_curve(labels[:, i], predictions[:, i])\n",
    "    roc_auc[i] = auc(fpr[i], tpr[i])\n",
    "    \n",
    "# Create fig\n",
    "fig = go.Figure()\n",
    "\n",
    "# Plot all ROC curves in the same figure\n",
    "class_names = [\"fear\", \"happy\", \"neutral\"]\n",
    "for i in range(3):\n",
    "    fig.add_trace(go.Scatter(x=fpr[i], y=tpr[i], mode='lines', name='{0} (AUC = {1:0.2f})'.format(class_names[i], roc_auc[i])))\n",
    "\n",
    "# Add random line.\n",
    "fig.add_trace(go.Scatter(x=[0,1], y=[0,1], mode='lines', name='random', line=dict(dash='dash')))\n",
    "\n",
    "fig.update_layout(\n",
    "    template = \"plotly_white\",\n",
    "    xaxis_title='False Positive Rate',\n",
    "                    yaxis_title='True Positive Rate',\n",
    "                    title=f'Emotions ROC (n = {len(predictions)})', \n",
    "                    autosize=False,\n",
    "                    width=900, \n",
    "                    height=800)\n",
    "\n",
    "fig.show()"
   ]
  }
 ],
 "metadata": {
  "kernelspec": {
   "display_name": "emotions",
   "language": "python",
   "name": "python3"
  },
  "language_info": {
   "codemirror_mode": {
    "name": "ipython",
    "version": 3
   },
   "file_extension": ".py",
   "mimetype": "text/x-python",
   "name": "python",
   "nbconvert_exporter": "python",
   "pygments_lexer": "ipython3",
   "version": "3.8.18"
  }
 },
 "nbformat": 4,
 "nbformat_minor": 2
}
